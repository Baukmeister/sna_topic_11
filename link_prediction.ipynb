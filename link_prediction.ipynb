{
 "cells": [
  {
   "cell_type": "markdown",
   "metadata": {
    "collapsed": true,
    "pycharm": {
     "name": "#%% md\n"
    }
   },
   "source": [
    "# Predicting links in Social Networks"
   ]
  },
  {
   "cell_type": "code",
   "execution_count": 18,
   "outputs": [],
   "source": [
    "import pandas as pd\n",
    "from sklearn.ensemble import RandomForestClassifier\n",
    "from sklearn.model_selection import train_test_split\n",
    "from sklearn.metrics import *\n",
    "from sklearn.utils import resample\n",
    "import pickle"
   ],
   "metadata": {
    "collapsed": false,
    "pycharm": {
     "name": "#%%\n"
    }
   }
  },
  {
   "cell_type": "markdown",
   "source": [
    "## Load data"
   ],
   "metadata": {
    "collapsed": false,
    "pycharm": {
     "name": "#%% md\n"
    }
   },
   "outputs": [],
   "execution_count": 1
  },
  {
   "cell_type": "markdown",
   "source": [
    "### Like relation"
   ],
   "metadata": {
    "collapsed": false
   }
  },
  {
   "cell_type": "code",
   "execution_count": 2,
   "outputs": [],
   "source": [
    "like_1 = pd.read_csv(\"data/engineered_features/Like_Features_day_1.csv\")\n",
    "like_2 = pd.read_csv(\"data/engineered_features/Like_Features_day_2.csv\")\n",
    "like_3 = pd.read_csv(\"data/engineered_features/Like_Features_day_3.csv\")\n",
    "like_4 = pd.read_csv(\"data/engineered_features/Like_Features_day_4.csv\")\n",
    "like_5 = pd.read_csv(\"data/engineered_features/Like_Features_day_5.csv\")"
   ],
   "metadata": {
    "collapsed": false,
    "pycharm": {
     "name": "#%%\n"
    }
   }
  },
  {
   "cell_type": "markdown",
   "source": [],
   "metadata": {
    "collapsed": false
   }
  },
  {
   "cell_type": "code",
   "execution_count": 3,
   "outputs": [],
   "source": [
    "common_1 = pd.read_csv(\"data/engineered_features/common_interest_day_1.csv\")\n",
    "common_2 = pd.read_csv(\"data/engineered_features/common_interest_day_2.csv\")\n",
    "common_3 = pd.read_csv(\"data/engineered_features/common_interest_day_3.csv\")\n",
    "common_3 = pd.read_csv(\"data/engineered_features/common_interest_day_4.csv\")\n",
    "common_1_3 = pd.read_csv(\"data/engineered_features/common_interest_combined_day_1_3.csv\")"
   ],
   "metadata": {
    "collapsed": false,
    "pycharm": {
     "name": "#%%\n"
    }
   }
  },
  {
   "cell_type": "markdown",
   "source": [
    "### Group Relation"
   ],
   "metadata": {
    "collapsed": false
   }
  },
  {
   "cell_type": "code",
   "execution_count": 11,
   "outputs": [],
   "source": [
    "with open(\"data/engineered_features/G_features_postings_days_1-3.pkl\", \"rb\") as input_file:\n",
    "    G_1_3 = pickle.load(input_file)"
   ],
   "metadata": {
    "collapsed": false,
    "pycharm": {
     "name": "#%%\n"
    }
   }
  },
  {
   "cell_type": "markdown",
   "source": [
    "### Posting TFIDF"
   ],
   "metadata": {
    "collapsed": false,
    "pycharm": {
     "name": "#%% md\n"
    }
   }
  },
  {
   "cell_type": "code",
   "source": [
    "with open(\"data/engineered_features/postings_tfidf_and_graph_features_only_positive_days_1to3.pkl\", \"rb\") as input_file:\n",
    "    tfidf_pos_1_3 = pickle.load(input_file)\n",
    "\n",
    "with open(\"data/engineered_features/postings_tfidf_and_graph_features_only_positive_day_4_test.pkl\",\n",
    "          \"rb\") as input_file:\n",
    "    tfidf_pos_4_test = pickle.load(input_file)\n",
    "\n",
    "with open(\"data/engineered_features/postings_tfidf_and_graph_features_only_negative_days_1to3.pkl\", \"rb\") as input_file:\n",
    "    tfidf_neg_1_3 = pickle.load(input_file)\n",
    "\n",
    "with open(\"data/engineered_features/postings_tfidf_and_graph_features_only_negative_day_4_test.pkl\",\n",
    "          \"rb\") as input_file:\n",
    "    tfidf_neg_4_test = pickle.load(input_file)"
   ],
   "metadata": {
    "collapsed": false,
    "pycharm": {
     "name": "#%%\n"
    }
   },
   "execution_count": 7,
   "outputs": []
  },
  {
   "cell_type": "markdown",
   "source": [
    "## Process data for ML"
   ],
   "metadata": {
    "collapsed": false
   }
  },
  {
   "cell_type": "markdown",
   "source": [
    "### Downsample data"
   ],
   "metadata": {
    "collapsed": false
   }
  },
  {
   "cell_type": "markdown",
   "source": [
    "Because of the huge number of nodes execution of basic data handling takes long on commodity hardware. Therefore the data sets need to be reduced in size while keeping the characteristics of the orignal data set"
   ],
   "metadata": {
    "collapsed": false
   }
  },
  {
   "cell_type": "code",
   "execution_count": 62,
   "outputs": [],
   "source": [
    "com = common_1_3\n",
    "com[\"label\"] = [1 if c > 0 else 0 for c in common_1_3[\"weight\"]]"
   ],
   "metadata": {
    "collapsed": false,
    "pycharm": {
     "name": "#%%\n"
    }
   }
  },
  {
   "cell_type": "code",
   "execution_count": 63,
   "outputs": [],
   "source": [
    "com_all_downsample = resample(\n",
    "    com,\n",
    "    n_samples=int(com.shape[0] * 0.1)\n",
    ")\n",
    "\n",
    "com_neg = com[com.label == 0]\n",
    "com_pos = com[com.label == 1]\n",
    "\n",
    "com_neg_downsample = resample(com_neg,\n",
    "                              n_samples=com_pos.shape[0])\n",
    "\n",
    "com_resampled = pd.concat([com_pos, com_neg_downsample])"
   ],
   "metadata": {
    "collapsed": false,
    "pycharm": {
     "name": "#%%\n"
    }
   }
  },
  {
   "cell_type": "code",
   "execution_count": 64,
   "outputs": [
    {
     "data": {
      "text/plain": "201398"
     },
     "execution_count": 64,
     "metadata": {},
     "output_type": "execute_result"
    }
   ],
   "source": [
    "com_resampled.shape[0]"
   ],
   "metadata": {
    "collapsed": false,
    "pycharm": {
     "name": "#%%\n"
    }
   }
  },
  {
   "cell_type": "markdown",
   "source": [
    "The resampled data structure still contains over 200k links, but now the label imbalance is corrected."
   ],
   "metadata": {
    "collapsed": false
   }
  },
  {
   "cell_type": "markdown",
   "source": [
    "## Define columns for training"
   ],
   "metadata": {
    "collapsed": false
   }
  },
  {
   "cell_type": "code",
   "execution_count": 65,
   "outputs": [],
   "source": [
    "target = \"label\"\n",
    "columns = [\n",
    "    \"jaccard_coef\",\n",
    "    \"adamic_adar_index\",\n",
    "    \"preferential_attachment_index\",\n",
    "    \"clustering_coefficient_score\"\n",
    "]\n",
    "\n",
    "X_train = com_resampled[columns]\n",
    "y_train = com_resampled[target]"
   ],
   "metadata": {
    "collapsed": false,
    "pycharm": {
     "name": "#%%\n"
    }
   }
  },
  {
   "cell_type": "code",
   "execution_count": 69,
   "outputs": [],
   "source": [
    "rfc = classifier = RandomForestClassifier(n_estimators=30, max_depth=10, random_state=0)"
   ],
   "metadata": {
    "collapsed": false,
    "pycharm": {
     "name": "#%%\n"
    }
   }
  },
  {
   "cell_type": "markdown",
   "source": [
    "## Define evaluation function"
   ],
   "metadata": {
    "collapsed": false,
    "pycharm": {
     "name": "#%% md\n"
    }
   }
  },
  {
   "cell_type": "code",
   "execution_count": 75,
   "outputs": [],
   "source": [
    "def evaluate_model(predictions, actual):\n",
    "    return pd.DataFrame({\n",
    "        \"Measure\": [\"Accuracy\", \"Precision\", \"Recall\", \"F1\"],\n",
    "        \"Score\": [accuracy_score(actual, predictions),\n",
    "                  precision_score(actual, predictions),\n",
    "                  recall_score(actual, predictions),\n",
    "                  f1_score(actual, predictions)]\n",
    "    })"
   ],
   "metadata": {
    "collapsed": false,
    "pycharm": {
     "name": "#%%\n"
    }
   }
  },
  {
   "cell_type": "markdown",
   "source": [
    "## Fit classifiers"
   ],
   "metadata": {
    "collapsed": false
   }
  },
  {
   "cell_type": "code",
   "execution_count": 76,
   "outputs": [
    {
     "data": {
      "text/plain": "RandomForestClassifier(max_depth=10, n_estimators=30, random_state=0)"
     },
     "execution_count": 76,
     "metadata": {},
     "output_type": "execute_result"
    }
   ],
   "source": [
    "classifier.fit(X_train, y_train)"
   ],
   "metadata": {
    "collapsed": false,
    "pycharm": {
     "name": "#%%\n"
    }
   }
  },
  {
   "cell_type": "markdown",
   "source": [
    "## Evaluate prediction"
   ],
   "metadata": {
    "collapsed": false
   }
  },
  {
   "cell_type": "code",
   "source": [
    "X_test = com_all_downsample[columns]\n",
    "y_test = com_all_downsample[target]"
   ],
   "metadata": {
    "collapsed": false,
    "pycharm": {
     "name": "#%%\n"
    }
   },
   "execution_count": 77,
   "outputs": []
  },
  {
   "cell_type": "code",
   "execution_count": 78,
   "outputs": [
    {
     "data": {
      "text/plain": "     Measure     Score\n0   Accuracy  0.966436\n1  Precision  0.128755\n2     Recall  0.986828\n3         F1  0.227789",
      "text/html": "<div>\n<style scoped>\n    .dataframe tbody tr th:only-of-type {\n        vertical-align: middle;\n    }\n\n    .dataframe tbody tr th {\n        vertical-align: top;\n    }\n\n    .dataframe thead th {\n        text-align: right;\n    }\n</style>\n<table border=\"1\" class=\"dataframe\">\n  <thead>\n    <tr style=\"text-align: right;\">\n      <th></th>\n      <th>Measure</th>\n      <th>Score</th>\n    </tr>\n  </thead>\n  <tbody>\n    <tr>\n      <th>0</th>\n      <td>Accuracy</td>\n      <td>0.966436</td>\n    </tr>\n    <tr>\n      <th>1</th>\n      <td>Precision</td>\n      <td>0.128755</td>\n    </tr>\n    <tr>\n      <th>2</th>\n      <td>Recall</td>\n      <td>0.986828</td>\n    </tr>\n    <tr>\n      <th>3</th>\n      <td>F1</td>\n      <td>0.227789</td>\n    </tr>\n  </tbody>\n</table>\n</div>"
     },
     "execution_count": 78,
     "metadata": {},
     "output_type": "execute_result"
    }
   ],
   "source": [
    "predictions = classifier.predict(X_test)\n",
    "evaluate_model(predictions, y_test)"
   ],
   "metadata": {
    "collapsed": false,
    "pycharm": {
     "name": "#%%\n"
    }
   }
  },
  {
   "cell_type": "markdown",
   "source": [
    "# TODO\n",
    "\n",
    "- Add engineered features\n",
    "- Split according to days (one day for test one for verfication?)\n",
    "- More models\n",
    "- Grid search for params\n",
    "- Cross validtation\n",
    "- Explainability?\n",
    "\n",
    "\n",
    "See this [repo](https://github.com/neo4j-examples/link-prediction) for reference"
   ],
   "metadata": {
    "collapsed": false,
    "pycharm": {
     "name": "#%% md\n"
    }
   }
  },
  {
   "cell_type": "markdown",
   "source": [],
   "metadata": {
    "collapsed": false
   }
  }
 ],
 "metadata": {
  "kernelspec": {
   "display_name": "Python 3",
   "language": "python",
   "name": "python3"
  },
  "language_info": {
   "codemirror_mode": {
    "name": "ipython",
    "version": 2
   },
   "file_extension": ".py",
   "mimetype": "text/x-python",
   "name": "python",
   "nbconvert_exporter": "python",
   "pygments_lexer": "ipython2",
   "version": "2.7.6"
  }
 },
 "nbformat": 4,
 "nbformat_minor": 0
}