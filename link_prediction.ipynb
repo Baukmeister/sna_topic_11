{
 "cells": [
  {
   "cell_type": "markdown",
   "metadata": {
    "collapsed": true,
    "pycharm": {
     "name": "#%% md\n"
    }
   },
   "source": [
    "# Predicting links in Social Networks"
   ]
  },
  {
   "cell_type": "code",
   "execution_count": 162,
   "outputs": [],
   "source": [
    "import pandas as pd\n",
    "from sklearn.ensemble import RandomForestClassifier\n",
    "from sklearn.neighbors import KNeighborsClassifier\n",
    "from sklearn.svm import SVC\n",
    "from sklearn.metrics import *\n",
    "from sklearn.utils import resample\n",
    "import pickle"
   ],
   "metadata": {
    "collapsed": false,
    "pycharm": {
     "name": "#%%\n"
    }
   }
  },
  {
   "cell_type": "markdown",
   "source": [
    "## Load data"
   ],
   "metadata": {
    "collapsed": false,
    "pycharm": {
     "name": "#%% md\n"
    }
   },
   "outputs": [],
   "execution_count": 1
  },
  {
   "cell_type": "markdown",
   "source": [
    "### Like relation"
   ],
   "metadata": {
    "collapsed": false
   }
  },
  {
   "cell_type": "code",
   "execution_count": 18,
   "outputs": [],
   "source": [
    "like_1 = pd.read_csv(\"data/engineered_features/Like_Features_day_1.csv\")\n",
    "like_2 = pd.read_csv(\"data/engineered_features/Like_Features_day_2.csv\")\n",
    "like_3 = pd.read_csv(\"data/engineered_features/Like_Features_day_3.csv\")\n",
    "like_4 = pd.read_csv(\"data/engineered_features/Like_Features_day_4.csv\")\n",
    "like_5 = pd.read_csv(\"data/engineered_features/Like_Features_day_5.csv\")"
   ],
   "metadata": {
    "collapsed": false,
    "pycharm": {
     "name": "#%%\n"
    }
   }
  },
  {
   "cell_type": "markdown",
   "source": [],
   "metadata": {
    "collapsed": false
   }
  },
  {
   "cell_type": "code",
   "execution_count": 135,
   "outputs": [],
   "source": [
    "common_1 = pd.read_csv(\"data/engineered_features/common_interest_day_1.csv\")\n",
    "common_2 = pd.read_csv(\"data/engineered_features/common_interest_day_2.csv\")\n",
    "common_3 = pd.read_csv(\"data/engineered_features/common_interest_day_3.csv\")\n",
    "common_4 = pd.read_csv(\"data/engineered_features/common_interest_day_4.csv\")\n",
    "common_1_3 = pd.read_csv(\"data/engineered_features/common_interest_combined_day_1_3.csv\")"
   ],
   "metadata": {
    "collapsed": false,
    "pycharm": {
     "name": "#%%\n"
    }
   }
  },
  {
   "cell_type": "markdown",
   "source": [
    "### Group Relation"
   ],
   "metadata": {
    "collapsed": false
   }
  },
  {
   "cell_type": "code",
   "execution_count": 20,
   "outputs": [],
   "source": [
    "with open(\"data/engineered_features/G_features_postings_days_1-3.pkl\", \"rb\") as input_file:\n",
    "    G_1_3 = pickle.load(input_file)"
   ],
   "metadata": {
    "collapsed": false,
    "pycharm": {
     "name": "#%%\n"
    }
   }
  },
  {
   "cell_type": "markdown",
   "source": [
    "### Posting TFIDF + graph features"
   ],
   "metadata": {
    "collapsed": false,
    "pycharm": {
     "name": "#%% md\n"
    }
   }
  },
  {
   "cell_type": "code",
   "source": [
    "with open(\"data/engineered_features/postings_tfidf_and_graph_features_only_positive_days_1to3.pkl\", \"rb\") as input_file:\n",
    "    tfidf_pos_1_3 = pickle.load(input_file)\n",
    "\n",
    "with open(\"data/engineered_features/postings_tfidf_and_graph_features_only_positive_day_4_test.pkl\",\n",
    "          \"rb\") as input_file:\n",
    "    tfidf_pos_4_test = pickle.load(input_file)\n",
    "\n",
    "with open(\"data/engineered_features/postings_tfidf_and_graph_features_only_negative_days_1to3.pkl\", \"rb\") as input_file:\n",
    "    tfidf_neg_1_3 = pickle.load(input_file)\n",
    "\n",
    "with open(\"data/engineered_features/postings_tfidf_and_graph_features_only_negative_day_4_test.pkl\",\n",
    "          \"rb\") as input_file:\n",
    "    tfidf_neg_4_test = pickle.load(input_file)"
   ],
   "metadata": {
    "collapsed": false,
    "pycharm": {
     "name": "#%%\n"
    }
   },
   "execution_count": 58,
   "outputs": []
  },
  {
   "cell_type": "markdown",
   "source": [
    "## Process data for ML"
   ],
   "metadata": {
    "collapsed": false
   }
  },
  {
   "cell_type": "markdown",
   "source": [
    "### Downsample data"
   ],
   "metadata": {
    "collapsed": false
   }
  },
  {
   "cell_type": "markdown",
   "source": [
    "Experiment paramters:"
   ],
   "metadata": {
    "collapsed": false
   }
  },
  {
   "cell_type": "code",
   "execution_count": 189,
   "outputs": [],
   "source": [
    "TEST_SET_DOWN_FACTOR = 0.3\n",
    "TRAIN_SET_DOWN_FACTOR = 0.1\n",
    "TRAIN_SET_NEG_OVERBALANCE = 25\n",
    "PREDICTION_GOAL = \"DAY_4\"\n",
    "#PREDICTION_GOAL = \"SAME_DAY\"\n",
    "\n",
    "#Exludes long-running classifiers\n",
    "QUICK_RUN = True"
   ],
   "metadata": {
    "collapsed": false,
    "pycharm": {
     "name": "#%%\n"
    }
   }
  },
  {
   "cell_type": "markdown",
   "source": [
    "Because of the huge number of nodes execution of basic data handling takes long on commodity hardware. Therefore the data sets need to be reduced in size while keeping the characteristics of the orignal data set"
   ],
   "metadata": {
    "collapsed": false
   }
  },
  {
   "cell_type": "markdown",
   "source": [
    "#### For the common interest relationship"
   ],
   "metadata": {
    "collapsed": false
   }
  },
  {
   "cell_type": "code",
   "execution_count": 190,
   "outputs": [],
   "source": [
    "if PREDICTION_GOAL == \"SAME_DAY\":\n",
    "    com = common_1_3\n",
    "    com[\"label\"] = [1 if c > 0 else 0 for c in common_1_3[\"weight\"]]\n",
    "elif PREDICTION_GOAL == \"DAY_4\":\n",
    "    com_4 = common_4[[\"source\",\"target\",\"weight\"]]\n",
    "    merged_com = pd.merge(common_1_3, com_4, on=[\"source\",\"target\"], how=\"left\")\n",
    "    merged_com.rename(columns= {\"weight_y\": \"day_4_weight\"}, inplace=True)\n",
    "    merged_com['day_4_weight'] = merged_com['day_4_weight'].fillna(0)\n",
    "    com = merged_com\n",
    "    com[\"label\"] = [1 if c > 0 else 0 for c in merged_com[\"day_4_weight\"]]"
   ],
   "metadata": {
    "collapsed": false,
    "pycharm": {
     "name": "#%%\n"
    }
   }
  },
  {
   "cell_type": "code",
   "execution_count": 191,
   "outputs": [],
   "source": [
    "com_all_downsample = resample(\n",
    "    com,\n",
    "    n_samples=int(com.shape[0] * TEST_SET_DOWN_FACTOR)\n",
    ")\n",
    "\n",
    "com_neg = com[com.label == 0]\n",
    "com_pos = com[com.label == 1]\n",
    "\n",
    "com_neg_downsample = resample(com_neg,\n",
    "                              n_samples=int(com_pos.shape[0] * TRAIN_SET_NEG_OVERBALANCE)\n",
    "                              )\n",
    "\n",
    "com_resampled = resample(\n",
    "    pd.concat([com_pos, com_neg_downsample]),\n",
    "    n_samples=int(com_pos.shape[0] * 2 * TRAIN_SET_DOWN_FACTOR)\n",
    ")"
   ],
   "metadata": {
    "collapsed": false,
    "pycharm": {
     "name": "#%%\n"
    }
   }
  },
  {
   "cell_type": "code",
   "execution_count": 192,
   "outputs": [
    {
     "data": {
      "text/plain": "7892"
     },
     "execution_count": 192,
     "metadata": {},
     "output_type": "execute_result"
    }
   ],
   "source": [
    "com_resampled.shape[0]"
   ],
   "metadata": {
    "collapsed": false,
    "pycharm": {
     "name": "#%%\n"
    }
   }
  },
  {
   "cell_type": "markdown",
   "source": [
    "The resampled data structure still contains over 200k links (not considering train set downscaling), but now the label imbalance is corrected."
   ],
   "metadata": {
    "collapsed": false
   }
  },
  {
   "cell_type": "markdown",
   "source": [
    "#### For the like relationship"
   ],
   "metadata": {
    "collapsed": false
   }
  },
  {
   "cell_type": "code",
   "execution_count": 193,
   "outputs": [],
   "source": [
    "if PREDICTION_GOAL == \"SAME_DAY\":\n",
    "    like_all = pd.concat([like_1, like_2, like_3, like_4, like_5])\n",
    "    like_all[\"label\"] = [1 if c > 0 else 0 for c in like_all[\"current_weight\"]]\n",
    "elif PREDICTION_GOAL == \"DAY_4\":\n",
    "    like_1_3 = pd.concat([like_1, like_2, like_3])\n",
    "\n",
    "    like_4 = like_4[[\"source\",\"target\",\"current_weight\"]]\n",
    "    merged_like = pd.merge(like_1_3, like_4, on=[\"source\",\"target\"], how=\"left\")\n",
    "    merged_like.rename(columns= {\"current_weight_y\": \"day_4_weight\"}, inplace=True)\n",
    "    merged_like['day_4_weight'] = merged_like['day_4_weight'].fillna(0)\n",
    "    like_all = merged_like\n",
    "    like_all[\"label\"] = [1 if c > 0 else 0 for c in like_all[\"day_4_weight\"]]"
   ],
   "metadata": {
    "collapsed": false,
    "pycharm": {
     "name": "#%%\n"
    }
   }
  },
  {
   "cell_type": "code",
   "execution_count": 194,
   "outputs": [
    {
     "data": {
      "text/plain": "          day  source  target  jaccard_coef  adamic_adar_index  \\\n0           1     657     932      0.015873           0.229531   \n1           1     657    1277      0.014493           0.243257   \n2           1     657    1782      0.071429           1.254864   \n3           1     657    2191      0.021277           0.192569   \n4           1     657    2968      0.006993           0.192569   \n...       ...     ...     ...           ...                ...   \n13404069    3  691789  690766      0.008969           0.452060   \n13404070    3  691789  690933      0.142857           0.227560   \n13404071    3  691789  691033      0.011905           0.224500   \n13404072    3  691789  691215      0.034483           0.227560   \n13404073    3  691789  691621      0.024390           0.224500   \n\n          preferential_attachment_index  clustering_coefficient_score  \\\n0                                  1015                      0.000435   \n1                                  1189                      0.000631   \n2                                   899                      0.001344   \n3                                   551                      0.001386   \n4                                  3335                      0.001309   \n...                                 ...                           ...   \n13404069                            884                      0.001575   \n13404070                             16                      0.013889   \n13404071                            324                      0.006723   \n13404072                            104                      0.005897   \n13404073                            152                      0.006757   \n\n          current_weight_x  future_weight  day_4_weight  label  \n0                        0              0           0.0      0  \n1                        0              0           0.0      0  \n2                        0              0           0.0      0  \n3                        0              0           0.0      0  \n4                        0              0           0.0      0  \n...                    ...            ...           ...    ...  \n13404069                 0              0           0.0      0  \n13404070                 0              0           0.0      0  \n13404071                -1              0           0.0      0  \n13404072                 0              0           0.0      0  \n13404073                 0              0           0.0      0  \n\n[13404074 rows x 11 columns]",
      "text/html": "<div>\n<style scoped>\n    .dataframe tbody tr th:only-of-type {\n        vertical-align: middle;\n    }\n\n    .dataframe tbody tr th {\n        vertical-align: top;\n    }\n\n    .dataframe thead th {\n        text-align: right;\n    }\n</style>\n<table border=\"1\" class=\"dataframe\">\n  <thead>\n    <tr style=\"text-align: right;\">\n      <th></th>\n      <th>day</th>\n      <th>source</th>\n      <th>target</th>\n      <th>jaccard_coef</th>\n      <th>adamic_adar_index</th>\n      <th>preferential_attachment_index</th>\n      <th>clustering_coefficient_score</th>\n      <th>current_weight_x</th>\n      <th>future_weight</th>\n      <th>day_4_weight</th>\n      <th>label</th>\n    </tr>\n  </thead>\n  <tbody>\n    <tr>\n      <th>0</th>\n      <td>1</td>\n      <td>657</td>\n      <td>932</td>\n      <td>0.015873</td>\n      <td>0.229531</td>\n      <td>1015</td>\n      <td>0.000435</td>\n      <td>0</td>\n      <td>0</td>\n      <td>0.0</td>\n      <td>0</td>\n    </tr>\n    <tr>\n      <th>1</th>\n      <td>1</td>\n      <td>657</td>\n      <td>1277</td>\n      <td>0.014493</td>\n      <td>0.243257</td>\n      <td>1189</td>\n      <td>0.000631</td>\n      <td>0</td>\n      <td>0</td>\n      <td>0.0</td>\n      <td>0</td>\n    </tr>\n    <tr>\n      <th>2</th>\n      <td>1</td>\n      <td>657</td>\n      <td>1782</td>\n      <td>0.071429</td>\n      <td>1.254864</td>\n      <td>899</td>\n      <td>0.001344</td>\n      <td>0</td>\n      <td>0</td>\n      <td>0.0</td>\n      <td>0</td>\n    </tr>\n    <tr>\n      <th>3</th>\n      <td>1</td>\n      <td>657</td>\n      <td>2191</td>\n      <td>0.021277</td>\n      <td>0.192569</td>\n      <td>551</td>\n      <td>0.001386</td>\n      <td>0</td>\n      <td>0</td>\n      <td>0.0</td>\n      <td>0</td>\n    </tr>\n    <tr>\n      <th>4</th>\n      <td>1</td>\n      <td>657</td>\n      <td>2968</td>\n      <td>0.006993</td>\n      <td>0.192569</td>\n      <td>3335</td>\n      <td>0.001309</td>\n      <td>0</td>\n      <td>0</td>\n      <td>0.0</td>\n      <td>0</td>\n    </tr>\n    <tr>\n      <th>...</th>\n      <td>...</td>\n      <td>...</td>\n      <td>...</td>\n      <td>...</td>\n      <td>...</td>\n      <td>...</td>\n      <td>...</td>\n      <td>...</td>\n      <td>...</td>\n      <td>...</td>\n      <td>...</td>\n    </tr>\n    <tr>\n      <th>13404069</th>\n      <td>3</td>\n      <td>691789</td>\n      <td>690766</td>\n      <td>0.008969</td>\n      <td>0.452060</td>\n      <td>884</td>\n      <td>0.001575</td>\n      <td>0</td>\n      <td>0</td>\n      <td>0.0</td>\n      <td>0</td>\n    </tr>\n    <tr>\n      <th>13404070</th>\n      <td>3</td>\n      <td>691789</td>\n      <td>690933</td>\n      <td>0.142857</td>\n      <td>0.227560</td>\n      <td>16</td>\n      <td>0.013889</td>\n      <td>0</td>\n      <td>0</td>\n      <td>0.0</td>\n      <td>0</td>\n    </tr>\n    <tr>\n      <th>13404071</th>\n      <td>3</td>\n      <td>691789</td>\n      <td>691033</td>\n      <td>0.011905</td>\n      <td>0.224500</td>\n      <td>324</td>\n      <td>0.006723</td>\n      <td>-1</td>\n      <td>0</td>\n      <td>0.0</td>\n      <td>0</td>\n    </tr>\n    <tr>\n      <th>13404072</th>\n      <td>3</td>\n      <td>691789</td>\n      <td>691215</td>\n      <td>0.034483</td>\n      <td>0.227560</td>\n      <td>104</td>\n      <td>0.005897</td>\n      <td>0</td>\n      <td>0</td>\n      <td>0.0</td>\n      <td>0</td>\n    </tr>\n    <tr>\n      <th>13404073</th>\n      <td>3</td>\n      <td>691789</td>\n      <td>691621</td>\n      <td>0.024390</td>\n      <td>0.224500</td>\n      <td>152</td>\n      <td>0.006757</td>\n      <td>0</td>\n      <td>0</td>\n      <td>0.0</td>\n      <td>0</td>\n    </tr>\n  </tbody>\n</table>\n<p>13404074 rows × 11 columns</p>\n</div>"
     },
     "execution_count": 194,
     "metadata": {},
     "output_type": "execute_result"
    }
   ],
   "source": [
    "like_all"
   ],
   "metadata": {
    "collapsed": false,
    "pycharm": {
     "name": "#%%\n"
    }
   }
  },
  {
   "cell_type": "code",
   "execution_count": 195,
   "outputs": [],
   "source": [
    "like_all_downsampled = resample(\n",
    "    like_all,\n",
    "    n_samples=int(like_all.shape[0] * TEST_SET_DOWN_FACTOR)\n",
    ")\n",
    "\n",
    "like_neg = like_all[like_all.label == 0]\n",
    "like_pos = like_all[like_all.label == 1]\n",
    "\n",
    "like_neg_downsampled = resample(like_neg,\n",
    "                                n_samples=int(like_pos.shape[0] * TRAIN_SET_NEG_OVERBALANCE)\n",
    "                                )\n",
    "like_resampled = resample(\n",
    "    pd.concat([like_pos, like_neg_downsampled]),\n",
    "    n_samples=int(like_pos.shape[0] * 2 * TRAIN_SET_DOWN_FACTOR)\n",
    ")"
   ],
   "metadata": {
    "collapsed": false,
    "pycharm": {
     "name": "#%%\n"
    }
   }
  },
  {
   "cell_type": "code",
   "execution_count": 196,
   "outputs": [
    {
     "data": {
      "text/plain": "3889"
     },
     "execution_count": 196,
     "metadata": {},
     "output_type": "execute_result"
    }
   ],
   "source": [
    "like_resampled.shape[0]"
   ],
   "metadata": {
    "collapsed": false,
    "pycharm": {
     "name": "#%%\n"
    }
   }
  },
  {
   "cell_type": "markdown",
   "source": [
    "The resampled data structure still contains over 400k (not considering train set downscaling) links, but now the label imbalance is corrected."
   ],
   "metadata": {
    "collapsed": false
   }
  },
  {
   "cell_type": "markdown",
   "source": [
    "#### For group relation using TFIDF\n"
   ],
   "metadata": {
    "collapsed": false,
    "pycharm": {
     "name": "#%% md\n"
    }
   }
  },
  {
   "cell_type": "code",
   "execution_count": 198,
   "outputs": [],
   "source": [
    "if PREDICTION_GOAL == \"SAME_DAY\":\n",
    "    tfidf_all_train = pd.concat([tfidf_neg_1_3, tfidf_pos_1_3])\n",
    "    tfidf_all = tfidf_all_train\n",
    "    tfidf_all_test = pd.concat([tfidf_neg_4_test, tfidf_pos_4_test])\n",
    "elif PREDICTION_GOAL == \"DAY_4\":\n",
    "    tfidf_1_3 = pd.concat([tfidf_neg_1_3, tfidf_pos_1_3])\n",
    "    tfidf_4 = pd.concat([tfidf_neg_4_test, tfidf_pos_4_test])\n",
    "\n",
    "    tfidf_4 = tfidf_4[[\"Source_User\",\"Target_User\",\"label\"]]\n",
    "    merged_tfidf = pd.merge(tfidf_1_3, tfidf_4, on=[\"Source_User\",\"Target_User\"], how=\"left\")\n",
    "    merged_tfidf.rename(columns= {\"label_y\": \"label\"}, inplace=True)\n",
    "    merged_tfidf['label'] = merged_tfidf['label'].fillna(0)\n",
    "    tfidf_all = merged_tfidf"
   ],
   "metadata": {
    "collapsed": false,
    "pycharm": {
     "name": "#%%\n"
    }
   }
  },
  {
   "cell_type": "code",
   "execution_count": 200,
   "outputs": [],
   "source": [
    "tfidf_all_downsampled = resample(\n",
    "    tfidf_all,\n",
    "    n_samples=int(tfidf_all.shape[0] * TEST_SET_DOWN_FACTOR)\n",
    ")\n",
    "\n",
    "tfidf_neg = tfidf_all[tfidf_all.label == 0]\n",
    "tfidf_pos = tfidf_all[tfidf_all.label == 1]\n",
    "\n",
    "tfidf_neg_downsampled = resample(tfidf_neg,\n",
    "                                n_samples=int(tfidf_pos.shape[0] * TRAIN_SET_NEG_OVERBALANCE)\n",
    "                                )\n",
    "tfidf_resampled = pd.concat([tfidf_pos, tfidf_neg_downsampled])"
   ],
   "metadata": {
    "collapsed": false,
    "pycharm": {
     "name": "#%%\n"
    }
   }
  },
  {
   "cell_type": "code",
   "execution_count": 201,
   "outputs": [
    {
     "data": {
      "text/plain": "85850"
     },
     "execution_count": 201,
     "metadata": {},
     "output_type": "execute_result"
    }
   ],
   "source": [
    "tfidf_neg_downsampled.shape[0]"
   ],
   "metadata": {
    "collapsed": false,
    "pycharm": {
     "name": "#%%\n"
    }
   }
  },
  {
   "cell_type": "markdown",
   "source": [
    "The resampled data structure still contains over 90k (not considering train set downscaling) links, but now the label imbalance is corrected."
   ],
   "metadata": {
    "collapsed": false
   }
  },
  {
   "cell_type": "markdown",
   "source": [
    "## Define columns for training"
   ],
   "metadata": {
    "collapsed": false
   }
  },
  {
   "cell_type": "code",
   "execution_count": 202,
   "outputs": [],
   "source": [
    "target = \"label\"\n",
    "graph_features = [\n",
    "    \"jaccard_coef\",\n",
    "    \"adamic_adar_index\",\n",
    "    \"preferential_attachment_index\",\n",
    "    \"clustering_coefficient_score\"\n",
    "]\n",
    "larger_graph_features = [\n",
    "    \"jaccard_coef\",\n",
    "    \"adamic_adar_index\",\n",
    "    \"preferential_attachment_index\",\n",
    "    \"clustering_coefficient_score_Source_User\",\n",
    "    \"clustering_coefficient_score_Target_User\",\n",
    "    \"pagerank_Source_User\",\n",
    "    \"pagerank_Target_User\"\n",
    "]\n",
    "tfidf_features = [ f'{i}_TFIDF' for i in range(0,500)]\n",
    "\n",
    "\n",
    "X_train_com = com_resampled[graph_features]\n",
    "y_train_com = com_resampled[target]\n",
    "\n",
    "X_train_like = like_resampled[graph_features]\n",
    "y_train_like = like_resampled[target]\n",
    "\n",
    "X_train_tfidf = tfidf_resampled[larger_graph_features + tfidf_features]\n",
    "y_train_tfidf = tfidf_resampled[target]"
   ],
   "metadata": {
    "collapsed": false,
    "pycharm": {
     "name": "#%%\n"
    }
   }
  },
  {
   "cell_type": "code",
   "execution_count": 203,
   "outputs": [],
   "source": [
    "rfc_com = RandomForestClassifier(n_estimators=50, max_depth=40, random_state=0)\n",
    "svm_com = SVC()\n",
    "knn_com = KNeighborsClassifier(n_neighbors=10)\n",
    "\n",
    "rfc_like = RandomForestClassifier(n_estimators=50, max_depth=40, random_state=0)\n",
    "svm_like = SVC()\n",
    "knn_like = KNeighborsClassifier(n_neighbors=10)\n",
    "\n",
    "rfc_tfidf = RandomForestClassifier(n_estimators=50, max_depth=40, random_state=0)\n",
    "svm_tfidf = SVC()\n",
    "knn_tfidf = KNeighborsClassifier(n_neighbors=10)"
   ],
   "metadata": {
    "collapsed": false,
    "pycharm": {
     "name": "#%%\n"
    }
   }
  },
  {
   "cell_type": "markdown",
   "source": [
    "## Define evaluation function"
   ],
   "metadata": {
    "collapsed": false,
    "pycharm": {
     "name": "#%% md\n"
    }
   }
  },
  {
   "cell_type": "code",
   "execution_count": 204,
   "outputs": [],
   "source": [
    "def evaluate_model(predictions, actual):\n",
    "    return pd.DataFrame({\n",
    "        \"Measure\": [\"Accuracy\", \"Precision\", \"Recall\", \"F1\"],\n",
    "        \"Score\": [accuracy_score(actual, predictions),\n",
    "                  precision_score(actual, predictions),\n",
    "                  recall_score(actual, predictions),\n",
    "                  f1_score(actual, predictions)]\n",
    "    }).transpose()"
   ],
   "metadata": {
    "collapsed": false,
    "pycharm": {
     "name": "#%%\n"
    }
   }
  },
  {
   "cell_type": "markdown",
   "source": [
    "## Fit classifiers"
   ],
   "metadata": {
    "collapsed": false
   }
  },
  {
   "cell_type": "markdown",
   "source": [
    "### RF"
   ],
   "metadata": {
    "collapsed": false,
    "pycharm": {
     "name": "#%% md\n"
    }
   }
  },
  {
   "cell_type": "code",
   "execution_count": 205,
   "outputs": [
    {
     "data": {
      "text/plain": "RandomForestClassifier(max_depth=40, n_estimators=50, random_state=0)"
     },
     "execution_count": 205,
     "metadata": {},
     "output_type": "execute_result"
    }
   ],
   "source": [
    "rfc_com.fit(X_train_com, y_train_com)"
   ],
   "metadata": {
    "collapsed": false,
    "pycharm": {
     "name": "#%%\n"
    }
   }
  },
  {
   "cell_type": "code",
   "execution_count": 206,
   "outputs": [
    {
     "data": {
      "text/plain": "RandomForestClassifier(max_depth=40, n_estimators=50, random_state=0)"
     },
     "execution_count": 206,
     "metadata": {},
     "output_type": "execute_result"
    }
   ],
   "source": [
    "rfc_like.fit(X_train_like, y_train_like)"
   ],
   "metadata": {
    "collapsed": false,
    "pycharm": {
     "name": "#%%\n"
    }
   }
  },
  {
   "cell_type": "code",
   "execution_count": 207,
   "outputs": [
    {
     "data": {
      "text/plain": "RandomForestClassifier(max_depth=40, n_estimators=50, random_state=0)"
     },
     "execution_count": 207,
     "metadata": {},
     "output_type": "execute_result"
    }
   ],
   "source": [
    "rfc_tfidf.fit(X_train_tfidf, y_train_tfidf)"
   ],
   "metadata": {
    "collapsed": false,
    "pycharm": {
     "name": "#%%\n"
    }
   }
  },
  {
   "cell_type": "markdown",
   "source": [
    "### SVM"
   ],
   "metadata": {
    "collapsed": false
   }
  },
  {
   "cell_type": "code",
   "execution_count": 208,
   "outputs": [],
   "source": [
    "if not QUICK_RUN:\n",
    "    svm_com.fit(X_train_com, y_train_com)"
   ],
   "metadata": {
    "collapsed": false,
    "pycharm": {
     "name": "#%%\n"
    }
   }
  },
  {
   "cell_type": "code",
   "execution_count": 209,
   "outputs": [],
   "source": [
    "if not QUICK_RUN:\n",
    "    svm_like.fit(X_train_like, y_train_like)"
   ],
   "metadata": {
    "collapsed": false,
    "pycharm": {
     "name": "#%%\n"
    }
   }
  },
  {
   "cell_type": "code",
   "execution_count": 210,
   "outputs": [],
   "source": [
    "if not QUICK_RUN:\n",
    "    svm_tfidf.fit(X_train_tfidf, y_train_tfidf)"
   ],
   "metadata": {
    "collapsed": false,
    "pycharm": {
     "name": "#%%\n"
    }
   }
  },
  {
   "cell_type": "markdown",
   "source": [
    "### KNN"
   ],
   "metadata": {
    "collapsed": false
   }
  },
  {
   "cell_type": "code",
   "execution_count": 211,
   "outputs": [
    {
     "data": {
      "text/plain": "KNeighborsClassifier(n_neighbors=10)"
     },
     "execution_count": 211,
     "metadata": {},
     "output_type": "execute_result"
    }
   ],
   "source": [
    "knn_com.fit(X_train_com, y_train_com)"
   ],
   "metadata": {
    "collapsed": false,
    "pycharm": {
     "name": "#%%\n"
    }
   }
  },
  {
   "cell_type": "code",
   "execution_count": 212,
   "outputs": [
    {
     "data": {
      "text/plain": "KNeighborsClassifier(n_neighbors=10)"
     },
     "execution_count": 212,
     "metadata": {},
     "output_type": "execute_result"
    }
   ],
   "source": [
    "knn_like.fit(X_train_like, y_train_like)"
   ],
   "metadata": {
    "collapsed": false,
    "pycharm": {
     "name": "#%%\n"
    }
   }
  },
  {
   "cell_type": "code",
   "execution_count": 213,
   "outputs": [
    {
     "data": {
      "text/plain": "KNeighborsClassifier(n_neighbors=10)"
     },
     "execution_count": 213,
     "metadata": {},
     "output_type": "execute_result"
    }
   ],
   "source": [
    "knn_tfidf.fit(X_train_tfidf, y_train_tfidf)"
   ],
   "metadata": {
    "collapsed": false,
    "pycharm": {
     "name": "#%%\n"
    }
   }
  },
  {
   "cell_type": "markdown",
   "source": [
    "## Evaluate predictions"
   ],
   "metadata": {
    "collapsed": false
   }
  },
  {
   "cell_type": "code",
   "source": [
    "X_test_com = com_all_downsample[graph_features]\n",
    "y_test_com = com_all_downsample[target]"
   ],
   "metadata": {
    "collapsed": false,
    "pycharm": {
     "name": "#%%\n"
    }
   },
   "execution_count": 214,
   "outputs": []
  },
  {
   "cell_type": "code",
   "execution_count": 215,
   "outputs": [],
   "source": [
    "X_test_like = like_all_downsampled[graph_features]\n",
    "y_test_like = like_all_downsampled[target]"
   ],
   "metadata": {
    "collapsed": false,
    "pycharm": {
     "name": "#%%\n"
    }
   }
  },
  {
   "cell_type": "code",
   "execution_count": 216,
   "outputs": [],
   "source": [
    "if PREDICTION_GOAL == \"SAME_DAY\":\n",
    "    X_test_tfidf = tfidf_all_test[larger_graph_features + tfidf_features]\n",
    "    y_test_tfidf = tfidf_all_test[target]\n",
    "elif PREDICTION_GOAL == \"DAY_4\":\n",
    "    X_test_tfidf = tfidf_all_downsampled[larger_graph_features + tfidf_features]\n",
    "    y_test_tfidf = tfidf_all_downsampled[target]"
   ],
   "metadata": {
    "collapsed": false,
    "pycharm": {
     "name": "#%%\n"
    }
   }
  },
  {
   "cell_type": "markdown",
   "source": [
    "### RF evaluation"
   ],
   "metadata": {
    "collapsed": false
   }
  },
  {
   "cell_type": "code",
   "execution_count": 217,
   "outputs": [
    {
     "data": {
      "text/plain": "                0          1         2         3\nMeasure  Accuracy  Precision    Recall        F1\nScore    0.989547   0.061299  0.302741  0.101954",
      "text/html": "<div>\n<style scoped>\n    .dataframe tbody tr th:only-of-type {\n        vertical-align: middle;\n    }\n\n    .dataframe tbody tr th {\n        vertical-align: top;\n    }\n\n    .dataframe thead th {\n        text-align: right;\n    }\n</style>\n<table border=\"1\" class=\"dataframe\">\n  <thead>\n    <tr style=\"text-align: right;\">\n      <th></th>\n      <th>0</th>\n      <th>1</th>\n      <th>2</th>\n      <th>3</th>\n    </tr>\n  </thead>\n  <tbody>\n    <tr>\n      <th>Measure</th>\n      <td>Accuracy</td>\n      <td>Precision</td>\n      <td>Recall</td>\n      <td>F1</td>\n    </tr>\n    <tr>\n      <th>Score</th>\n      <td>0.989547</td>\n      <td>0.061299</td>\n      <td>0.302741</td>\n      <td>0.101954</td>\n    </tr>\n  </tbody>\n</table>\n</div>"
     },
     "execution_count": 217,
     "metadata": {},
     "output_type": "execute_result"
    }
   ],
   "source": [
    "predictions = rfc_com.predict(X_test_com)\n",
    "evaluate_model(predictions, y_test_com)"
   ],
   "metadata": {
    "collapsed": false,
    "pycharm": {
     "name": "#%%\n"
    }
   }
  },
  {
   "cell_type": "code",
   "execution_count": 218,
   "outputs": [
    {
     "data": {
      "text/plain": "                0          1         2         3\nMeasure  Accuracy  Precision    Recall        F1\nScore    0.997249   0.012251  0.011697  0.011967",
      "text/html": "<div>\n<style scoped>\n    .dataframe tbody tr th:only-of-type {\n        vertical-align: middle;\n    }\n\n    .dataframe tbody tr th {\n        vertical-align: top;\n    }\n\n    .dataframe thead th {\n        text-align: right;\n    }\n</style>\n<table border=\"1\" class=\"dataframe\">\n  <thead>\n    <tr style=\"text-align: right;\">\n      <th></th>\n      <th>0</th>\n      <th>1</th>\n      <th>2</th>\n      <th>3</th>\n    </tr>\n  </thead>\n  <tbody>\n    <tr>\n      <th>Measure</th>\n      <td>Accuracy</td>\n      <td>Precision</td>\n      <td>Recall</td>\n      <td>F1</td>\n    </tr>\n    <tr>\n      <th>Score</th>\n      <td>0.997249</td>\n      <td>0.012251</td>\n      <td>0.011697</td>\n      <td>0.011967</td>\n    </tr>\n  </tbody>\n</table>\n</div>"
     },
     "execution_count": 218,
     "metadata": {},
     "output_type": "execute_result"
    }
   ],
   "source": [
    "predictions = rfc_like.predict(X_test_like)\n",
    "evaluate_model(predictions, y_test_like)"
   ],
   "metadata": {
    "collapsed": false,
    "pycharm": {
     "name": "#%%\n"
    }
   }
  },
  {
   "cell_type": "code",
   "execution_count": 219,
   "outputs": [
    {
     "data": {
      "text/plain": "                0          1         2         3\nMeasure  Accuracy  Precision    Recall        F1\nScore    0.997541   0.988108  0.879692  0.930754",
      "text/html": "<div>\n<style scoped>\n    .dataframe tbody tr th:only-of-type {\n        vertical-align: middle;\n    }\n\n    .dataframe tbody tr th {\n        vertical-align: top;\n    }\n\n    .dataframe thead th {\n        text-align: right;\n    }\n</style>\n<table border=\"1\" class=\"dataframe\">\n  <thead>\n    <tr style=\"text-align: right;\">\n      <th></th>\n      <th>0</th>\n      <th>1</th>\n      <th>2</th>\n      <th>3</th>\n    </tr>\n  </thead>\n  <tbody>\n    <tr>\n      <th>Measure</th>\n      <td>Accuracy</td>\n      <td>Precision</td>\n      <td>Recall</td>\n      <td>F1</td>\n    </tr>\n    <tr>\n      <th>Score</th>\n      <td>0.997541</td>\n      <td>0.988108</td>\n      <td>0.879692</td>\n      <td>0.930754</td>\n    </tr>\n  </tbody>\n</table>\n</div>"
     },
     "execution_count": 219,
     "metadata": {},
     "output_type": "execute_result"
    }
   ],
   "source": [
    "predictions = rfc_tfidf.predict(X_test_tfidf)\n",
    "evaluate_model(predictions, y_test_tfidf)"
   ],
   "metadata": {
    "collapsed": false,
    "pycharm": {
     "name": "#%%\n"
    }
   }
  },
  {
   "cell_type": "markdown",
   "source": [
    "### SVM evaluation"
   ],
   "metadata": {
    "collapsed": false
   }
  },
  {
   "cell_type": "code",
   "execution_count": 220,
   "outputs": [],
   "source": [
    "if not QUICK_RUN:\n",
    "    predictions = svm_com.predict(X_test_com)\n",
    "    evaluate_model(predictions, y_test_com)"
   ],
   "metadata": {
    "collapsed": false,
    "pycharm": {
     "name": "#%%\n"
    }
   }
  },
  {
   "cell_type": "code",
   "execution_count": 221,
   "outputs": [],
   "source": [
    "if not QUICK_RUN:\n",
    "    predictions = svm_like.predict(X_test_like)\n",
    "    evaluate_model(predictions, y_test_like)"
   ],
   "metadata": {
    "collapsed": false,
    "pycharm": {
     "name": "#%%\n"
    }
   }
  },
  {
   "cell_type": "code",
   "execution_count": 222,
   "outputs": [],
   "source": [
    "if not QUICK_RUN:\n",
    "    predictions = svm_tfidf.predict(X_test_tfidf)\n",
    "    evaluate_model(predictions, y_test_tfidf)"
   ],
   "metadata": {
    "collapsed": false,
    "pycharm": {
     "name": "#%%\n"
    }
   }
  },
  {
   "cell_type": "markdown",
   "source": [
    "### KNN evaluation"
   ],
   "metadata": {
    "collapsed": false
   }
  },
  {
   "cell_type": "code",
   "execution_count": null,
   "outputs": [],
   "source": [
    "predictions = knn_com.predict(X_test_com)\n",
    "evaluate_model(predictions, y_test_com)"
   ],
   "metadata": {
    "collapsed": false,
    "pycharm": {
     "name": "#%%\n",
     "is_executing": true
    }
   }
  },
  {
   "cell_type": "code",
   "execution_count": null,
   "outputs": [],
   "source": [
    "predictions = knn_like.predict(X_test_like)\n",
    "evaluate_model(predictions, y_test_like)"
   ],
   "metadata": {
    "collapsed": false,
    "pycharm": {
     "name": "#%%\n",
     "is_executing": true
    }
   }
  },
  {
   "cell_type": "code",
   "execution_count": null,
   "outputs": [],
   "source": [
    "predictions = knn_tfidf.predict(X_test_tfidf)\n",
    "evaluate_model(predictions, y_test_tfidf)"
   ],
   "metadata": {
    "collapsed": false,
    "pycharm": {
     "name": "#%%\n",
     "is_executing": true
    }
   }
  },
  {
   "cell_type": "markdown",
   "source": [
    "# TODO\n",
    "\n",
    "- Split according to days (one day for test one for verfication?)\n",
    "- Combine different features\n",
    "- Visuailze predited networks\n",
    "- Reformulate learning taks to predict the next day\n",
    "- Grid search for params\n",
    "- Cross validtation\n",
    "- Explainability?\n",
    "\n",
    "\n",
    "See this [repo](https://github.com/neo4j-examples/link-prediction) for reference"
   ],
   "metadata": {
    "collapsed": false,
    "pycharm": {
     "name": "#%% md\n"
    }
   }
  },
  {
   "cell_type": "markdown",
   "source": [],
   "metadata": {
    "collapsed": false
   }
  }
 ],
 "metadata": {
  "kernelspec": {
   "display_name": "Python 3",
   "language": "python",
   "name": "python3"
  },
  "language_info": {
   "codemirror_mode": {
    "name": "ipython",
    "version": 2
   },
   "file_extension": ".py",
   "mimetype": "text/x-python",
   "name": "python",
   "nbconvert_exporter": "python",
   "pygments_lexer": "ipython2",
   "version": "2.7.6"
  }
 },
 "nbformat": 4,
 "nbformat_minor": 0
}