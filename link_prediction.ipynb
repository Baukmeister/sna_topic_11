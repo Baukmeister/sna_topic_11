{
 "cells": [
  {
   "cell_type": "markdown",
   "metadata": {
    "collapsed": true,
    "pycharm": {
     "name": "#%% md\n"
    }
   },
   "source": [
    "# Predicting links in Social Networks"
   ]
  },
  {
   "cell_type": "code",
   "execution_count": 1,
   "outputs": [],
   "source": [
    "import itertools\n",
    "\n",
    "import pandas as pd\n",
    "from sklearn.ensemble import RandomForestClassifier\n",
    "from sklearn.neighbors import KNeighborsClassifier\n",
    "from sklearn.svm import SVC\n",
    "from sklearn.metrics import *\n",
    "from sklearn.utils import resample\n",
    "from sklearn.model_selection import train_test_split\n",
    "import pickle"
   ],
   "metadata": {
    "collapsed": false,
    "pycharm": {
     "name": "#%%\n"
    }
   }
  },
  {
   "cell_type": "markdown",
   "source": [
    "## Load data"
   ],
   "metadata": {
    "collapsed": false,
    "pycharm": {
     "name": "#%% md\n"
    }
   },
   "outputs": [],
   "execution_count": 1
  },
  {
   "cell_type": "markdown",
   "source": [
    "### Like relation"
   ],
   "metadata": {
    "collapsed": false
   }
  },
  {
   "cell_type": "code",
   "execution_count": 2,
   "outputs": [],
   "source": [
    "like_1 = pd.read_csv(\"data/engineered_features/Like_Features_day_1.csv\")\n",
    "like_2 = pd.read_csv(\"data/engineered_features/Like_Features_day_2.csv\")\n",
    "like_3 = pd.read_csv(\"data/engineered_features/Like_Features_day_3.csv\")\n",
    "like_4 = pd.read_csv(\"data/engineered_features/Like_Features_day_4.csv\")\n",
    "like_5 = pd.read_csv(\"data/engineered_features/Like_Features_day_5.csv\")"
   ],
   "metadata": {
    "collapsed": false,
    "pycharm": {
     "name": "#%%\n"
    }
   }
  },
  {
   "cell_type": "code",
   "execution_count": 3,
   "outputs": [],
   "source": [
    "common_1 = pd.read_csv(\"data/engineered_features/common_interest_day_1.csv\")\n",
    "common_2 = pd.read_csv(\"data/engineered_features/common_interest_day_2.csv\")\n",
    "common_3 = pd.read_csv(\"data/engineered_features/common_interest_day_3.csv\")\n",
    "common_4 = pd.read_csv(\"data/engineered_features/common_interest_day_4.csv\")\n",
    "common_1_3 = pd.read_csv(\"data/engineered_features/common_interest_combined_day_1_3.csv\")"
   ],
   "metadata": {
    "collapsed": false,
    "pycharm": {
     "name": "#%%\n"
    }
   }
  },
  {
   "cell_type": "markdown",
   "source": [
    "### Group Relation"
   ],
   "metadata": {
    "collapsed": false
   }
  },
  {
   "cell_type": "code",
   "execution_count": 4,
   "outputs": [],
   "source": [
    "with open(\"data/engineered_features/G_features_postings_days_1-3.pkl\", \"rb\") as input_file:\n",
    "    G_1_3 = pickle.load(input_file)"
   ],
   "metadata": {
    "collapsed": false,
    "pycharm": {
     "name": "#%%\n"
    }
   }
  },
  {
   "cell_type": "markdown",
   "source": [
    "### Posting TFIDF + graph features"
   ],
   "metadata": {
    "collapsed": false,
    "pycharm": {
     "name": "#%% md\n"
    }
   }
  },
  {
   "cell_type": "code",
   "source": [
    "with open(\"data/engineered_features/postings_tfidf_and_graph_features_only_positive_days_1to3.pkl\", \"rb\") as input_file:\n",
    "    tfidf_pos_1_3 = pickle.load(input_file)\n",
    "\n",
    "with open(\"data/engineered_features/postings_tfidf_and_graph_features_only_positive_day_4_test.pkl\",\n",
    "          \"rb\") as input_file:\n",
    "    tfidf_pos_4_test = pickle.load(input_file)\n",
    "\n",
    "with open(\"data/engineered_features/postings_tfidf_and_graph_features_only_negative_days_1to3.pkl\", \"rb\") as input_file:\n",
    "    tfidf_neg_1_3 = pickle.load(input_file)\n",
    "\n",
    "with open(\"data/engineered_features/postings_tfidf_and_graph_features_only_negative_day_4_test.pkl\",\n",
    "          \"rb\") as input_file:\n",
    "    tfidf_neg_4_test = pickle.load(input_file)"
   ],
   "metadata": {
    "collapsed": false,
    "pycharm": {
     "name": "#%%\n"
    }
   },
   "execution_count": 5,
   "outputs": []
  },
  {
   "cell_type": "markdown",
   "source": [
    "## Process data for ML"
   ],
   "metadata": {
    "collapsed": false
   }
  },
  {
   "cell_type": "markdown",
   "source": [
    "### Downsample data"
   ],
   "metadata": {
    "collapsed": false
   }
  },
  {
   "cell_type": "markdown",
   "source": [
    "Experiment paramters:"
   ],
   "metadata": {
    "collapsed": false
   }
  },
  {
   "cell_type": "code",
   "execution_count": 6,
   "outputs": [],
   "source": [
    "TRAIN_SET_SPLIT_SIZE = 0.8\n",
    "TEST_SET_DOWN_FACTOR = 0.3\n",
    "TRAIN_SET_DOWN_FACTOR = 0.7\n",
    "TRAIN_SET_NEG_OVERBALANCE = 2\n",
    "PREDICTION_GOAL = \"DAY_4\"\n",
    "#PREDICTION_GOAL = \"SAME_DAY\"\n",
    "\n",
    "#Exludes long-running classifiers\n",
    "QUICK_RUN = True"
   ],
   "metadata": {
    "collapsed": false,
    "pycharm": {
     "name": "#%%\n"
    }
   }
  },
  {
   "cell_type": "code",
   "execution_count": 7,
   "outputs": [],
   "source": [
    "target = \"label\"\n",
    "graph_features = [\n",
    "    \"jaccard_coef\",\n",
    "    \"adamic_adar_index\",\n",
    "    \"preferential_attachment_index\",\n",
    "    \"clustering_coefficient_score_Source_User\",\n",
    "    \"clustering_coefficient_score_Target_User\",\n",
    "    \"pagerank_Source_User\",\n",
    "    \"pagerank_Target_User\"\n",
    "]\n",
    "tfidf_features = [ f'{i}_TFIDF' for i in range(0,500)]"
   ],
   "metadata": {
    "collapsed": false,
    "pycharm": {
     "name": "#%%\n"
    }
   }
  },
  {
   "cell_type": "markdown",
   "source": [
    "Because of the huge number of nodes execution of basic data handling takes long on commodity hardware. Therefore the data sets need to be reduced in size while keeping the characteristics of the orignal data set"
   ],
   "metadata": {
    "collapsed": false
   }
  },
  {
   "cell_type": "markdown",
   "source": [
    "#### For the common interest relationship"
   ],
   "metadata": {
    "collapsed": false
   }
  },
  {
   "cell_type": "code",
   "execution_count": 8,
   "outputs": [],
   "source": [
    "if PREDICTION_GOAL == \"SAME_DAY\":\n",
    "    com = common_1_3\n",
    "    com[\"label\"] = [1 if c > 0 else 0 for c in common_1_3[\"weight\"]]\n",
    "elif PREDICTION_GOAL == \"DAY_4\":\n",
    "    com_4 = common_4[[\"source\",\"target\",\"weight\"]]\n",
    "    merged_com = pd.merge(common_1_3, com_4, on=[\"source\",\"target\"], how=\"left\")\n",
    "    merged_com.rename(columns= {\"weight_y\": \"day_4_weight\"}, inplace=True)\n",
    "    merged_com['day_4_weight'] = merged_com['day_4_weight'].fillna(0)\n",
    "    com = merged_com\n",
    "    com[\"label\"] = [1 if c > 0 else 0 for c in merged_com[\"day_4_weight\"]]\n",
    "    com.rename(columns= {\"source\": \"Source_User\", \"target\": \"Target_User\"}, inplace=True)"
   ],
   "metadata": {
    "collapsed": false,
    "pycharm": {
     "name": "#%%\n"
    }
   }
  },
  {
   "cell_type": "code",
   "execution_count": 9,
   "outputs": [],
   "source": [
    "com_train, com_test = train_test_split(com, train_size=TRAIN_SET_SPLIT_SIZE)\n",
    "\n",
    "com_test_downsample = resample(\n",
    "    com_test,\n",
    "    n_samples=int(com_test.shape[0] * TEST_SET_DOWN_FACTOR)\n",
    ")\n",
    "\n",
    "com_train_neg = com_train[com_train.label == 0]\n",
    "com_train_pos = com_train[com_train.label == 1]\n",
    "\n",
    "com_train_neg_downsample = resample(com_train_neg,\n",
    "                              n_samples=int(com_train_pos.shape[0] * TRAIN_SET_NEG_OVERBALANCE)\n",
    "                              )\n",
    "\n",
    "com_train_resampled = resample(\n",
    "    pd.concat([com_train_pos, com_train_neg_downsample]),\n",
    "    n_samples=int( (com_train_pos.shape[0] + com_train_neg_downsample.shape[0]) * TRAIN_SET_DOWN_FACTOR)\n",
    ")"
   ],
   "metadata": {
    "collapsed": false,
    "pycharm": {
     "name": "#%%\n"
    }
   }
  },
  {
   "cell_type": "code",
   "execution_count": 10,
   "outputs": [
    {
     "data": {
      "text/plain": "20796"
     },
     "execution_count": 10,
     "metadata": {},
     "output_type": "execute_result"
    }
   ],
   "source": [
    "com_train_resampled.shape[0]"
   ],
   "metadata": {
    "collapsed": false,
    "pycharm": {
     "name": "#%%\n"
    }
   }
  },
  {
   "cell_type": "markdown",
   "source": [
    "The resampled data structure still contains over 200k links (not considering train set downscaling), but now the label imbalance is corrected."
   ],
   "metadata": {
    "collapsed": false
   }
  },
  {
   "cell_type": "markdown",
   "source": [
    "#### For the like relationship"
   ],
   "metadata": {
    "collapsed": false
   }
  },
  {
   "cell_type": "code",
   "execution_count": 11,
   "outputs": [],
   "source": [
    "if PREDICTION_GOAL == \"SAME_DAY\":\n",
    "    like_all = pd.concat([like_1, like_2, like_3, like_4, like_5])\n",
    "    like_all[\"label\"] = [1 if c > 0 else 0 for c in like_all[\"current_weight\"]]\n",
    "elif PREDICTION_GOAL == \"DAY_4\":\n",
    "    like_1_3 = pd.concat([like_1, like_2, like_3])\n",
    "\n",
    "    like_4 = like_4[[\"Source_User\",\"Target_User\",\"current_weight\"]]\n",
    "    merged_like = pd.merge(like_1_3, like_4, on=[\"Source_User\",\"Target_User\"], how=\"left\")\n",
    "    merged_like.rename(columns= {\"current_weight_y\": \"day_4_weight\"}, inplace=True)\n",
    "    merged_like['day_4_weight'] = merged_like['day_4_weight'].fillna(0)\n",
    "    like_all = merged_like\n",
    "    like_all[\"label\"] = [1 if c > 0 else 0 for c in like_all[\"day_4_weight\"]]"
   ],
   "metadata": {
    "collapsed": false,
    "pycharm": {
     "name": "#%%\n"
    }
   }
  },
  {
   "cell_type": "code",
   "execution_count": 12,
   "outputs": [],
   "source": [
    "like_train, like_test = train_test_split(like_all, train_size=TRAIN_SET_SPLIT_SIZE)\n",
    "\n",
    "\n",
    "like_test_downsampled = resample(\n",
    "    like_test,\n",
    "    n_samples=int(like_test.shape[0] * TEST_SET_DOWN_FACTOR)\n",
    ")\n",
    "\n",
    "like_train_neg = like_train[like_train.label == 0]\n",
    "like_train_pos = like_train[like_train.label == 1]\n",
    "\n",
    "like_train_neg_downsampled = resample(like_train_neg,\n",
    "                                n_samples=int(like_train_pos.shape[0] * TRAIN_SET_NEG_OVERBALANCE)\n",
    "                                )\n",
    "like_train_resampled = resample(\n",
    "    pd.concat([like_train_pos, like_train_neg_downsampled]),\n",
    "    n_samples=int( (like_train_pos.shape[0] + like_train_neg_downsampled.shape[0]) * TRAIN_SET_DOWN_FACTOR)\n",
    ")"
   ],
   "metadata": {
    "collapsed": false,
    "pycharm": {
     "name": "#%%\n"
    }
   }
  },
  {
   "cell_type": "code",
   "execution_count": 13,
   "outputs": [
    {
     "data": {
      "text/plain": "43541"
     },
     "execution_count": 13,
     "metadata": {},
     "output_type": "execute_result"
    }
   ],
   "source": [
    "like_train_resampled.shape[0]"
   ],
   "metadata": {
    "collapsed": false,
    "pycharm": {
     "name": "#%%\n"
    }
   }
  },
  {
   "cell_type": "markdown",
   "source": [
    "The resampled data structure still contains over 400k (not considering train set downscaling) links, but now the label imbalance is corrected."
   ],
   "metadata": {
    "collapsed": false
   }
  },
  {
   "cell_type": "markdown",
   "source": [
    "#### For group relation using TFIDF\n"
   ],
   "metadata": {
    "collapsed": false,
    "pycharm": {
     "name": "#%% md\n"
    }
   }
  },
  {
   "cell_type": "code",
   "execution_count": 14,
   "outputs": [],
   "source": [
    "if PREDICTION_GOAL == \"SAME_DAY\":\n",
    "    tfidf_all_train = pd.concat([tfidf_neg_1_3, tfidf_pos_1_3])\n",
    "    tfidf_all_test = pd.concat([tfidf_neg_4_test, tfidf_pos_4_test])\n",
    "    tfidf_all = pd.concat([tfidf_all_train, tfidf_all_test])\n",
    "elif PREDICTION_GOAL == \"DAY_4\":\n",
    "    tfidf_1_3 = pd.concat([tfidf_neg_1_3, tfidf_pos_1_3])\n",
    "    tfidf_4 = pd.concat([tfidf_neg_4_test, tfidf_pos_4_test])\n",
    "\n",
    "    tfidf_4 = tfidf_4[[\"Source_User\",\"Target_User\",\"label\"]]\n",
    "\n",
    "    merged_tfidf = pd.merge(tfidf_1_3, tfidf_4, on=[\"Source_User\",\"Target_User\"], how=\"left\")\n",
    "    merged_tfidf.rename(columns= {\"label_y\": \"label\"}, inplace=True)\n",
    "    merged_tfidf['label'] = merged_tfidf['label'].fillna(0)\n",
    "    tfidf_all = merged_tfidf"
   ],
   "metadata": {
    "collapsed": false,
    "pycharm": {
     "name": "#%%\n"
    }
   }
  },
  {
   "cell_type": "code",
   "execution_count": 15,
   "outputs": [],
   "source": [
    "tfidf_train, tfidf_test = train_test_split(tfidf_all, train_size=TRAIN_SET_SPLIT_SIZE)\n",
    "\n",
    "\n",
    "tfidf_test_downsampled = resample(\n",
    "    tfidf_test,\n",
    "    n_samples=int(tfidf_test.shape[0] * TEST_SET_DOWN_FACTOR)\n",
    ")\n",
    "\n",
    "tfidf_train_neg = tfidf_train[tfidf_train.label == 0]\n",
    "tfidf_train_pos = tfidf_train[tfidf_train.label == 1]\n",
    "\n",
    "tfidf_train_neg_downsampled = resample(tfidf_train_neg,\n",
    "                                n_samples=int(tfidf_train_pos.shape[0] * TRAIN_SET_NEG_OVERBALANCE)\n",
    "                                )\n",
    "tfidf_train_resampled = resample(\n",
    "    pd.concat([tfidf_train_pos, tfidf_train_neg_downsampled]),\n",
    "    n_samples=int( (tfidf_train_pos.shape[0] + tfidf_train_neg_downsampled.shape[0]) * TRAIN_SET_DOWN_FACTOR)\n",
    ")"
   ],
   "metadata": {
    "collapsed": false,
    "pycharm": {
     "name": "#%%\n"
    }
   }
  },
  {
   "cell_type": "code",
   "execution_count": 16,
   "outputs": [
    {
     "data": {
      "text/plain": "5743"
     },
     "execution_count": 16,
     "metadata": {},
     "output_type": "execute_result"
    }
   ],
   "source": [
    "tfidf_train_resampled.shape[0]"
   ],
   "metadata": {
    "collapsed": false,
    "pycharm": {
     "name": "#%%\n"
    }
   }
  },
  {
   "cell_type": "markdown",
   "source": [
    "The resampled data structure still contains over 90k (not considering train set downscaling) links, but now the label imbalance is corrected."
   ],
   "metadata": {
    "collapsed": false
   }
  },
  {
   "cell_type": "markdown",
   "source": [
    "## Combining the link types"
   ],
   "metadata": {
    "collapsed": false
   }
  },
  {
   "cell_type": "markdown",
   "source": [
    "Using the largest network (the **like** link) as a basis."
   ],
   "metadata": {
    "collapsed": false
   }
  },
  {
   "cell_type": "code",
   "execution_count": 17,
   "outputs": [
    {
     "data": {
      "text/plain": "(9718806, 13)"
     },
     "execution_count": 17,
     "metadata": {},
     "output_type": "execute_result"
    }
   ],
   "source": [
    "com.shape"
   ],
   "metadata": {
    "collapsed": false,
    "pycharm": {
     "name": "#%%\n"
    }
   }
  },
  {
   "cell_type": "code",
   "execution_count": 18,
   "outputs": [
    {
     "data": {
      "text/plain": "(184360, 513)"
     },
     "execution_count": 18,
     "metadata": {},
     "output_type": "execute_result"
    }
   ],
   "source": [
    "tfidf_all.shape"
   ],
   "metadata": {
    "collapsed": false,
    "pycharm": {
     "name": "#%%\n"
    }
   }
  },
  {
   "cell_type": "code",
   "execution_count": 19,
   "outputs": [
    {
     "data": {
      "text/plain": "(14669079, 14)"
     },
     "execution_count": 19,
     "metadata": {},
     "output_type": "execute_result"
    }
   ],
   "source": [
    "like_all.shape"
   ],
   "metadata": {
    "collapsed": false,
    "pycharm": {
     "name": "#%%\n"
    }
   }
  },
  {
   "cell_type": "code",
   "execution_count": 20,
   "outputs": [],
   "source": [
    "like_and_com = pd.merge(like_all, com, on=[\"Source_User\",\"Target_User\"], how=\"left\", suffixes=(\"_like\", \"_com\"))"
   ],
   "metadata": {
    "collapsed": false,
    "pycharm": {
     "name": "#%%\n"
    }
   }
  },
  {
   "cell_type": "code",
   "execution_count": 21,
   "outputs": [
    {
     "name": "stderr",
     "output_type": "stream",
     "text": [
      "c:\\repos\\project-transformers-t10\\.venv\\lib\\site-packages\\pandas\\core\\frame.py:5039: SettingWithCopyWarning: \n",
      "A value is trying to be set on a copy of a slice from a DataFrame\n",
      "\n",
      "See the caveats in the documentation: https://pandas.pydata.org/pandas-docs/stable/user_guide/indexing.html#returning-a-view-versus-a-copy\n",
      "  return super().rename(\n"
     ]
    }
   ],
   "source": [
    "selected_features = [\"Source_User\", \"Target_User\"] + graph_features + [target]\n",
    "commented_all = tfidf_all[selected_features]\n",
    "commented_all.rename(\n",
    "    columns = dict(zip(selected_features[2:], [f + \"_commented\" for f in selected_features[2:]])),\n",
    "    inplace=True\n",
    ")\n",
    "full_combined = pd.merge(like_and_com, commented_all, on=[\"Source_User\",\"Target_User\"], how=\"left\")"
   ],
   "metadata": {
    "collapsed": false,
    "pycharm": {
     "name": "#%%\n"
    }
   }
  },
  {
   "cell_type": "markdown",
   "source": [
    "### Defining the new link"
   ],
   "metadata": {
    "collapsed": false
   }
  },
  {
   "cell_type": "markdown",
   "source": [
    "The **combined** link will be present if at least 1 out of the 3 links are present. If 2 out of 3 are chosen, less than 100 links will be present"
   ],
   "metadata": {
    "collapsed": false,
    "pycharm": {
     "name": "#%% md\n"
    }
   }
  },
  {
   "cell_type": "code",
   "execution_count": 22,
   "outputs": [],
   "source": [
    "full_combined[\"labels_sum\"] = full_combined[\"label_com\"] + full_combined['label_like'] + full_combined['label_commented']\n",
    "full_combined[\"label\"] = [1 if v >= 1 else 0 for v in full_combined[\"labels_sum\"]]"
   ],
   "metadata": {
    "collapsed": false,
    "pycharm": {
     "name": "#%%\n"
    }
   }
  },
  {
   "cell_type": "code",
   "execution_count": 23,
   "outputs": [
    {
     "data": {
      "text/plain": "1917"
     },
     "execution_count": 23,
     "metadata": {},
     "output_type": "execute_result"
    }
   ],
   "source": [
    "full_combined[\"label\"].sum()"
   ],
   "metadata": {
    "collapsed": false,
    "pycharm": {
     "name": "#%%\n"
    }
   }
  },
  {
   "cell_type": "code",
   "execution_count": 24,
   "outputs": [],
   "source": [
    "full_combined.fillna(0, inplace=True)\n",
    "full_train, full_test = train_test_split(full_combined, train_size=TRAIN_SET_SPLIT_SIZE)\n",
    "\n",
    "\n",
    "full_test_downsampled = resample(\n",
    "    full_test,\n",
    "    n_samples=int(full_test.shape[0] * TEST_SET_DOWN_FACTOR)\n",
    ")\n",
    "\n",
    "full_train_neg = full_train[full_train.label == 0]\n",
    "full_train_pos = full_train[full_train.label == 1]\n",
    "\n",
    "full_train_neg_downsampled = resample(full_train_neg,\n",
    "                                n_samples=int(full_train_pos.shape[0] * TRAIN_SET_NEG_OVERBALANCE)\n",
    "                                )\n",
    "full_train_resampled = resample(\n",
    "    pd.concat([full_train_pos, full_train_neg_downsampled]),\n",
    "    n_samples=int( (full_train_pos.shape[0] + full_train_neg_downsampled.shape[0]) * TRAIN_SET_DOWN_FACTOR)\n",
    ")"
   ],
   "metadata": {
    "collapsed": false,
    "pycharm": {
     "name": "#%%\n"
    }
   }
  },
  {
   "cell_type": "markdown",
   "source": [
    "## Create training data"
   ],
   "metadata": {
    "collapsed": false
   }
  },
  {
   "cell_type": "code",
   "execution_count": 25,
   "outputs": [
    {
     "data": {
      "text/plain": "['jaccard_coef_like',\n 'jaccard_coef_com',\n 'jaccard_coef_commented',\n 'adamic_adar_index_like',\n 'adamic_adar_index_com',\n 'adamic_adar_index_commented',\n 'preferential_attachment_index_like',\n 'preferential_attachment_index_com',\n 'preferential_attachment_index_commented',\n 'clustering_coefficient_score_Source_User_like',\n 'clustering_coefficient_score_Source_User_com',\n 'clustering_coefficient_score_Source_User_commented',\n 'clustering_coefficient_score_Target_User_like',\n 'clustering_coefficient_score_Target_User_com',\n 'clustering_coefficient_score_Target_User_commented',\n 'pagerank_Source_User_like',\n 'pagerank_Source_User_com',\n 'pagerank_Source_User_commented',\n 'pagerank_Target_User_like',\n 'pagerank_Target_User_com',\n 'pagerank_Target_User_commented']"
     },
     "execution_count": 25,
     "metadata": {},
     "output_type": "execute_result"
    }
   ],
   "source": [
    "full_graph_features = list(itertools.chain.from_iterable( [[f + \"_like\", f + \"_com\", f + \"_commented\"] for f in graph_features]))\n",
    "\n",
    "full_graph_features"
   ],
   "metadata": {
    "collapsed": false,
    "pycharm": {
     "name": "#%%\n"
    }
   }
  },
  {
   "cell_type": "code",
   "execution_count": 26,
   "outputs": [],
   "source": [
    "X_train_com = com_train_resampled[graph_features]\n",
    "y_train_com = com_train_resampled[target]\n",
    "\n",
    "X_train_like = like_train_resampled[graph_features]\n",
    "y_train_like = like_train_resampled[target]\n",
    "\n",
    "X_train_tfidf = tfidf_train_resampled[graph_features + tfidf_features]\n",
    "y_train_tfidf = tfidf_train_resampled[target]\n",
    "\n",
    "X_train_full = full_train_resampled[full_graph_features]\n",
    "y_train_full = full_train_resampled[target]"
   ],
   "metadata": {
    "collapsed": false,
    "pycharm": {
     "name": "#%%\n"
    }
   }
  },
  {
   "cell_type": "code",
   "execution_count": 27,
   "outputs": [],
   "source": [
    "rfc_com = RandomForestClassifier(n_estimators=50, max_depth=40, random_state=0)\n",
    "svm_com = SVC()\n",
    "knn_com = KNeighborsClassifier(n_neighbors=10)\n",
    "\n",
    "rfc_like = RandomForestClassifier(n_estimators=50, max_depth=40, random_state=0)\n",
    "svm_like = SVC()\n",
    "knn_like = KNeighborsClassifier(n_neighbors=10)\n",
    "\n",
    "rfc_tfidf = RandomForestClassifier(n_estimators=50, max_depth=40, random_state=0)\n",
    "svm_tfidf = SVC()\n",
    "knn_tfidf = KNeighborsClassifier(n_neighbors=10)\n",
    "\n",
    "rfc_full = RandomForestClassifier(n_estimators=50, max_depth=40, random_state=0)\n",
    "svm_full = SVC()\n",
    "knn_full = KNeighborsClassifier(n_neighbors=10)"
   ],
   "metadata": {
    "collapsed": false,
    "pycharm": {
     "name": "#%%\n"
    }
   }
  },
  {
   "cell_type": "markdown",
   "source": [
    "## Define evaluation function"
   ],
   "metadata": {
    "collapsed": false,
    "pycharm": {
     "name": "#%% md\n"
    }
   }
  },
  {
   "cell_type": "code",
   "execution_count": 28,
   "outputs": [],
   "source": [
    "def evaluate_model(predictions, actual):\n",
    "    return pd.DataFrame({\n",
    "        \"Measure\": [\"Accuracy\", \"Precision\", \"Recall\", \"F1\"],\n",
    "        \"Score\": [accuracy_score(actual, predictions),\n",
    "                  precision_score(actual, predictions),\n",
    "                  recall_score(actual, predictions),\n",
    "                  f1_score(actual, predictions)]\n",
    "    }).transpose()"
   ],
   "metadata": {
    "collapsed": false,
    "pycharm": {
     "name": "#%%\n"
    }
   }
  },
  {
   "cell_type": "markdown",
   "source": [
    "## Fit classifiers"
   ],
   "metadata": {
    "collapsed": false
   }
  },
  {
   "cell_type": "markdown",
   "source": [
    "### RF"
   ],
   "metadata": {
    "collapsed": false,
    "pycharm": {
     "name": "#%% md\n"
    }
   }
  },
  {
   "cell_type": "code",
   "execution_count": 29,
   "outputs": [
    {
     "data": {
      "text/plain": "RandomForestClassifier(max_depth=40, n_estimators=50, random_state=0)"
     },
     "execution_count": 29,
     "metadata": {},
     "output_type": "execute_result"
    }
   ],
   "source": [
    "rfc_com.fit(X_train_com, y_train_com)"
   ],
   "metadata": {
    "collapsed": false,
    "pycharm": {
     "name": "#%%\n"
    }
   }
  },
  {
   "cell_type": "code",
   "execution_count": 30,
   "outputs": [
    {
     "data": {
      "text/plain": "RandomForestClassifier(max_depth=40, n_estimators=50, random_state=0)"
     },
     "execution_count": 30,
     "metadata": {},
     "output_type": "execute_result"
    }
   ],
   "source": [
    "rfc_like.fit(X_train_like, y_train_like)"
   ],
   "metadata": {
    "collapsed": false,
    "pycharm": {
     "name": "#%%\n"
    }
   }
  },
  {
   "cell_type": "code",
   "execution_count": 31,
   "outputs": [
    {
     "data": {
      "text/plain": "RandomForestClassifier(max_depth=40, n_estimators=50, random_state=0)"
     },
     "execution_count": 31,
     "metadata": {},
     "output_type": "execute_result"
    }
   ],
   "source": [
    "rfc_tfidf.fit(X_train_tfidf, y_train_tfidf)"
   ],
   "metadata": {
    "collapsed": false,
    "pycharm": {
     "name": "#%%\n"
    }
   }
  },
  {
   "cell_type": "code",
   "execution_count": 32,
   "outputs": [
    {
     "data": {
      "text/plain": "RandomForestClassifier(max_depth=40, n_estimators=50, random_state=0)"
     },
     "execution_count": 32,
     "metadata": {},
     "output_type": "execute_result"
    }
   ],
   "source": [
    "rfc_full.fit(X_train_full, y_train_full)"
   ],
   "metadata": {
    "collapsed": false,
    "pycharm": {
     "name": "#%%\n"
    }
   }
  },
  {
   "cell_type": "markdown",
   "source": [
    "### SVM"
   ],
   "metadata": {
    "collapsed": false
   }
  },
  {
   "cell_type": "code",
   "execution_count": 33,
   "outputs": [],
   "source": [
    "if not QUICK_RUN:\n",
    "    svm_com.fit(X_train_com, y_train_com)"
   ],
   "metadata": {
    "collapsed": false,
    "pycharm": {
     "name": "#%%\n"
    }
   }
  },
  {
   "cell_type": "code",
   "execution_count": 34,
   "outputs": [],
   "source": [
    "if not QUICK_RUN:\n",
    "    svm_like.fit(X_train_like, y_train_like)"
   ],
   "metadata": {
    "collapsed": false,
    "pycharm": {
     "name": "#%%\n"
    }
   }
  },
  {
   "cell_type": "code",
   "execution_count": 35,
   "outputs": [],
   "source": [
    "if not QUICK_RUN:\n",
    "    svm_tfidf.fit(X_train_tfidf, y_train_tfidf)"
   ],
   "metadata": {
    "collapsed": false,
    "pycharm": {
     "name": "#%%\n"
    }
   }
  },
  {
   "cell_type": "code",
   "execution_count": 36,
   "outputs": [],
   "source": [
    "if not QUICK_RUN:\n",
    "    svm_full.fit(X_train_full, y_train_full)"
   ],
   "metadata": {
    "collapsed": false,
    "pycharm": {
     "name": "#%%\n"
    }
   }
  },
  {
   "cell_type": "markdown",
   "source": [
    "### KNN"
   ],
   "metadata": {
    "collapsed": false
   }
  },
  {
   "cell_type": "code",
   "execution_count": 37,
   "outputs": [
    {
     "data": {
      "text/plain": "KNeighborsClassifier(n_neighbors=10)"
     },
     "execution_count": 37,
     "metadata": {},
     "output_type": "execute_result"
    }
   ],
   "source": [
    "knn_com.fit(X_train_com, y_train_com)"
   ],
   "metadata": {
    "collapsed": false,
    "pycharm": {
     "name": "#%%\n"
    }
   }
  },
  {
   "cell_type": "code",
   "execution_count": 38,
   "outputs": [
    {
     "data": {
      "text/plain": "KNeighborsClassifier(n_neighbors=10)"
     },
     "execution_count": 38,
     "metadata": {},
     "output_type": "execute_result"
    }
   ],
   "source": [
    "knn_like.fit(X_train_like, y_train_like)"
   ],
   "metadata": {
    "collapsed": false,
    "pycharm": {
     "name": "#%%\n"
    }
   }
  },
  {
   "cell_type": "code",
   "execution_count": 39,
   "outputs": [
    {
     "data": {
      "text/plain": "KNeighborsClassifier(n_neighbors=10)"
     },
     "execution_count": 39,
     "metadata": {},
     "output_type": "execute_result"
    }
   ],
   "source": [
    "knn_tfidf.fit(X_train_tfidf, y_train_tfidf)"
   ],
   "metadata": {
    "collapsed": false,
    "pycharm": {
     "name": "#%%\n"
    }
   }
  },
  {
   "cell_type": "code",
   "execution_count": 40,
   "outputs": [
    {
     "data": {
      "text/plain": "KNeighborsClassifier(n_neighbors=10)"
     },
     "execution_count": 40,
     "metadata": {},
     "output_type": "execute_result"
    }
   ],
   "source": [
    "knn_full.fit(X_train_full, y_train_full)"
   ],
   "metadata": {
    "collapsed": false,
    "pycharm": {
     "name": "#%%\n"
    }
   }
  },
  {
   "cell_type": "markdown",
   "source": [
    "## Evaluate predictions"
   ],
   "metadata": {
    "collapsed": false
   }
  },
  {
   "cell_type": "code",
   "source": [
    "X_test_com = com_test_downsample[graph_features]\n",
    "y_test_com = com_test_downsample[target]"
   ],
   "metadata": {
    "collapsed": false,
    "pycharm": {
     "name": "#%%\n"
    }
   },
   "execution_count": 41,
   "outputs": []
  },
  {
   "cell_type": "code",
   "execution_count": 42,
   "outputs": [],
   "source": [
    "X_test_like = like_test_downsampled[graph_features]\n",
    "y_test_like = like_test_downsampled[target]"
   ],
   "metadata": {
    "collapsed": false,
    "pycharm": {
     "name": "#%%\n"
    }
   }
  },
  {
   "cell_type": "code",
   "execution_count": 43,
   "outputs": [],
   "source": [
    "X_test_tfidf = tfidf_test_downsampled[graph_features + tfidf_features]\n",
    "y_test_tfidf = tfidf_test_downsampled[target]"
   ],
   "metadata": {
    "collapsed": false,
    "pycharm": {
     "name": "#%%\n"
    }
   }
  },
  {
   "cell_type": "code",
   "execution_count": 44,
   "outputs": [],
   "source": [
    "X_test_full = full_test_downsampled[full_graph_features]\n",
    "y_test_full = full_test_downsampled[target]"
   ],
   "metadata": {
    "collapsed": false,
    "pycharm": {
     "name": "#%%\n"
    }
   }
  },
  {
   "cell_type": "markdown",
   "source": [
    "### RF evaluation"
   ],
   "metadata": {
    "collapsed": false
   }
  },
  {
   "cell_type": "code",
   "execution_count": 45,
   "outputs": [
    {
     "data": {
      "text/plain": "                0          1        2        3\nMeasure  Accuracy  Precision   Recall       F1\nScore    0.895402   0.007613  0.64993  0.01505",
      "text/html": "<div>\n<style scoped>\n    .dataframe tbody tr th:only-of-type {\n        vertical-align: middle;\n    }\n\n    .dataframe tbody tr th {\n        vertical-align: top;\n    }\n\n    .dataframe thead th {\n        text-align: right;\n    }\n</style>\n<table border=\"1\" class=\"dataframe\">\n  <thead>\n    <tr style=\"text-align: right;\">\n      <th></th>\n      <th>0</th>\n      <th>1</th>\n      <th>2</th>\n      <th>3</th>\n    </tr>\n  </thead>\n  <tbody>\n    <tr>\n      <th>Measure</th>\n      <td>Accuracy</td>\n      <td>Precision</td>\n      <td>Recall</td>\n      <td>F1</td>\n    </tr>\n    <tr>\n      <th>Score</th>\n      <td>0.895402</td>\n      <td>0.007613</td>\n      <td>0.64993</td>\n      <td>0.01505</td>\n    </tr>\n  </tbody>\n</table>\n</div>"
     },
     "execution_count": 45,
     "metadata": {},
     "output_type": "execute_result"
    }
   ],
   "source": [
    "predictions = rfc_com.predict(X_test_com)\n",
    "evaluate_model(predictions, y_test_com)"
   ],
   "metadata": {
    "collapsed": false,
    "pycharm": {
     "name": "#%%\n"
    }
   }
  },
  {
   "cell_type": "code",
   "execution_count": 46,
   "outputs": [
    {
     "data": {
      "text/plain": "                0          1         2         3\nMeasure  Accuracy  Precision    Recall        F1\nScore    0.862671   0.005529  0.425383  0.010916",
      "text/html": "<div>\n<style scoped>\n    .dataframe tbody tr th:only-of-type {\n        vertical-align: middle;\n    }\n\n    .dataframe tbody tr th {\n        vertical-align: top;\n    }\n\n    .dataframe thead th {\n        text-align: right;\n    }\n</style>\n<table border=\"1\" class=\"dataframe\">\n  <thead>\n    <tr style=\"text-align: right;\">\n      <th></th>\n      <th>0</th>\n      <th>1</th>\n      <th>2</th>\n      <th>3</th>\n    </tr>\n  </thead>\n  <tbody>\n    <tr>\n      <th>Measure</th>\n      <td>Accuracy</td>\n      <td>Precision</td>\n      <td>Recall</td>\n      <td>F1</td>\n    </tr>\n    <tr>\n      <th>Score</th>\n      <td>0.862671</td>\n      <td>0.005529</td>\n      <td>0.425383</td>\n      <td>0.010916</td>\n    </tr>\n  </tbody>\n</table>\n</div>"
     },
     "execution_count": 46,
     "metadata": {},
     "output_type": "execute_result"
    }
   ],
   "source": [
    "predictions = rfc_like.predict(X_test_like)\n",
    "evaluate_model(predictions, y_test_like)"
   ],
   "metadata": {
    "collapsed": false,
    "pycharm": {
     "name": "#%%\n"
    }
   }
  },
  {
   "cell_type": "code",
   "execution_count": 47,
   "outputs": [
    {
     "data": {
      "text/plain": "                0          1        2         3\nMeasure  Accuracy  Precision   Recall        F1\nScore    0.963385   0.326087  0.84507  0.470588",
      "text/html": "<div>\n<style scoped>\n    .dataframe tbody tr th:only-of-type {\n        vertical-align: middle;\n    }\n\n    .dataframe tbody tr th {\n        vertical-align: top;\n    }\n\n    .dataframe thead th {\n        text-align: right;\n    }\n</style>\n<table border=\"1\" class=\"dataframe\">\n  <thead>\n    <tr style=\"text-align: right;\">\n      <th></th>\n      <th>0</th>\n      <th>1</th>\n      <th>2</th>\n      <th>3</th>\n    </tr>\n  </thead>\n  <tbody>\n    <tr>\n      <th>Measure</th>\n      <td>Accuracy</td>\n      <td>Precision</td>\n      <td>Recall</td>\n      <td>F1</td>\n    </tr>\n    <tr>\n      <th>Score</th>\n      <td>0.963385</td>\n      <td>0.326087</td>\n      <td>0.84507</td>\n      <td>0.470588</td>\n    </tr>\n  </tbody>\n</table>\n</div>"
     },
     "execution_count": 47,
     "metadata": {},
     "output_type": "execute_result"
    }
   ],
   "source": [
    "predictions = rfc_tfidf.predict(X_test_tfidf)\n",
    "evaluate_model(predictions, y_test_tfidf)"
   ],
   "metadata": {
    "collapsed": false,
    "pycharm": {
     "name": "#%%\n"
    }
   }
  },
  {
   "cell_type": "code",
   "execution_count": 48,
   "outputs": [
    {
     "data": {
      "text/plain": "                0          1       2         3\nMeasure  Accuracy  Precision  Recall        F1\nScore    0.997732   0.053529     1.0  0.101619",
      "text/html": "<div>\n<style scoped>\n    .dataframe tbody tr th:only-of-type {\n        vertical-align: middle;\n    }\n\n    .dataframe tbody tr th {\n        vertical-align: top;\n    }\n\n    .dataframe thead th {\n        text-align: right;\n    }\n</style>\n<table border=\"1\" class=\"dataframe\">\n  <thead>\n    <tr style=\"text-align: right;\">\n      <th></th>\n      <th>0</th>\n      <th>1</th>\n      <th>2</th>\n      <th>3</th>\n    </tr>\n  </thead>\n  <tbody>\n    <tr>\n      <th>Measure</th>\n      <td>Accuracy</td>\n      <td>Precision</td>\n      <td>Recall</td>\n      <td>F1</td>\n    </tr>\n    <tr>\n      <th>Score</th>\n      <td>0.997732</td>\n      <td>0.053529</td>\n      <td>1.0</td>\n      <td>0.101619</td>\n    </tr>\n  </tbody>\n</table>\n</div>"
     },
     "execution_count": 48,
     "metadata": {},
     "output_type": "execute_result"
    }
   ],
   "source": [
    "predictions = rfc_full.predict(X_test_full)\n",
    "evaluate_model(predictions, y_test_full)"
   ],
   "metadata": {
    "collapsed": false,
    "pycharm": {
     "name": "#%%\n"
    }
   }
  },
  {
   "cell_type": "markdown",
   "source": [
    "### SVM evaluation"
   ],
   "metadata": {
    "collapsed": false
   }
  },
  {
   "cell_type": "code",
   "execution_count": 49,
   "outputs": [],
   "source": [
    "if not QUICK_RUN:\n",
    "    predictions = svm_com.predict(X_test_com)\n",
    "    evaluate_model(predictions, y_test_com)"
   ],
   "metadata": {
    "collapsed": false,
    "pycharm": {
     "name": "#%%\n"
    }
   }
  },
  {
   "cell_type": "code",
   "execution_count": 50,
   "outputs": [],
   "source": [
    "if not QUICK_RUN:\n",
    "    predictions = svm_like.predict(X_test_like)\n",
    "    evaluate_model(predictions, y_test_like)"
   ],
   "metadata": {
    "collapsed": false,
    "pycharm": {
     "name": "#%%\n"
    }
   }
  },
  {
   "cell_type": "code",
   "execution_count": 51,
   "outputs": [],
   "source": [
    "if not QUICK_RUN:\n",
    "    predictions = svm_tfidf.predict(X_test_tfidf)\n",
    "    evaluate_model(predictions, y_test_tfidf)"
   ],
   "metadata": {
    "collapsed": false,
    "pycharm": {
     "name": "#%%\n"
    }
   }
  },
  {
   "cell_type": "code",
   "execution_count": 52,
   "outputs": [],
   "source": [
    "if not QUICK_RUN:\n",
    "    predictions = svm_full.predict(X_test_full)\n",
    "    evaluate_model(predictions, y_test_tfidf)"
   ],
   "metadata": {
    "collapsed": false,
    "pycharm": {
     "name": "#%%\n"
    }
   }
  },
  {
   "cell_type": "markdown",
   "source": [
    "### KNN evaluation"
   ],
   "metadata": {
    "collapsed": false
   }
  },
  {
   "cell_type": "code",
   "execution_count": 53,
   "outputs": [
    {
     "data": {
      "text/plain": "                0          1         2         3\nMeasure  Accuracy  Precision    Recall        F1\nScore    0.880409   0.005134  0.499303  0.010163",
      "text/html": "<div>\n<style scoped>\n    .dataframe tbody tr th:only-of-type {\n        vertical-align: middle;\n    }\n\n    .dataframe tbody tr th {\n        vertical-align: top;\n    }\n\n    .dataframe thead th {\n        text-align: right;\n    }\n</style>\n<table border=\"1\" class=\"dataframe\">\n  <thead>\n    <tr style=\"text-align: right;\">\n      <th></th>\n      <th>0</th>\n      <th>1</th>\n      <th>2</th>\n      <th>3</th>\n    </tr>\n  </thead>\n  <tbody>\n    <tr>\n      <th>Measure</th>\n      <td>Accuracy</td>\n      <td>Precision</td>\n      <td>Recall</td>\n      <td>F1</td>\n    </tr>\n    <tr>\n      <th>Score</th>\n      <td>0.880409</td>\n      <td>0.005134</td>\n      <td>0.499303</td>\n      <td>0.010163</td>\n    </tr>\n  </tbody>\n</table>\n</div>"
     },
     "execution_count": 53,
     "metadata": {},
     "output_type": "execute_result"
    }
   ],
   "source": [
    "predictions = knn_com.predict(X_test_com)\n",
    "evaluate_model(predictions, y_test_com)"
   ],
   "metadata": {
    "collapsed": false,
    "pycharm": {
     "name": "#%%\n"
    }
   }
  },
  {
   "cell_type": "code",
   "execution_count": 54,
   "outputs": [
    {
     "data": {
      "text/plain": "                0          1         2        3\nMeasure  Accuracy  Precision    Recall       F1\nScore    0.845504    0.00348  0.300383  0.00688",
      "text/html": "<div>\n<style scoped>\n    .dataframe tbody tr th:only-of-type {\n        vertical-align: middle;\n    }\n\n    .dataframe tbody tr th {\n        vertical-align: top;\n    }\n\n    .dataframe thead th {\n        text-align: right;\n    }\n</style>\n<table border=\"1\" class=\"dataframe\">\n  <thead>\n    <tr style=\"text-align: right;\">\n      <th></th>\n      <th>0</th>\n      <th>1</th>\n      <th>2</th>\n      <th>3</th>\n    </tr>\n  </thead>\n  <tbody>\n    <tr>\n      <th>Measure</th>\n      <td>Accuracy</td>\n      <td>Precision</td>\n      <td>Recall</td>\n      <td>F1</td>\n    </tr>\n    <tr>\n      <th>Score</th>\n      <td>0.845504</td>\n      <td>0.00348</td>\n      <td>0.300383</td>\n      <td>0.00688</td>\n    </tr>\n  </tbody>\n</table>\n</div>"
     },
     "execution_count": 54,
     "metadata": {},
     "output_type": "execute_result"
    }
   ],
   "source": [
    "predictions = knn_like.predict(X_test_like)\n",
    "evaluate_model(predictions, y_test_like)"
   ],
   "metadata": {
    "collapsed": false,
    "pycharm": {
     "name": "#%%\n"
    }
   }
  },
  {
   "cell_type": "code",
   "execution_count": 55,
   "outputs": [
    {
     "data": {
      "text/plain": "                0          1         2         3\nMeasure  Accuracy  Precision    Recall        F1\nScore    0.924329   0.178351  0.812207  0.292477",
      "text/html": "<div>\n<style scoped>\n    .dataframe tbody tr th:only-of-type {\n        vertical-align: middle;\n    }\n\n    .dataframe tbody tr th {\n        vertical-align: top;\n    }\n\n    .dataframe thead th {\n        text-align: right;\n    }\n</style>\n<table border=\"1\" class=\"dataframe\">\n  <thead>\n    <tr style=\"text-align: right;\">\n      <th></th>\n      <th>0</th>\n      <th>1</th>\n      <th>2</th>\n      <th>3</th>\n    </tr>\n  </thead>\n  <tbody>\n    <tr>\n      <th>Measure</th>\n      <td>Accuracy</td>\n      <td>Precision</td>\n      <td>Recall</td>\n      <td>F1</td>\n    </tr>\n    <tr>\n      <th>Score</th>\n      <td>0.924329</td>\n      <td>0.178351</td>\n      <td>0.812207</td>\n      <td>0.292477</td>\n    </tr>\n  </tbody>\n</table>\n</div>"
     },
     "execution_count": 55,
     "metadata": {},
     "output_type": "execute_result"
    }
   ],
   "source": [
    "predictions = knn_tfidf.predict(X_test_tfidf)\n",
    "evaluate_model(predictions, y_test_tfidf)"
   ],
   "metadata": {
    "collapsed": false,
    "pycharm": {
     "name": "#%%\n"
    }
   }
  },
  {
   "cell_type": "code",
   "execution_count": 56,
   "outputs": [
    {
     "data": {
      "text/plain": "                0          1         2         3\nMeasure  Accuracy  Precision    Recall        F1\nScore    0.986773    0.00902  0.938053  0.017868",
      "text/html": "<div>\n<style scoped>\n    .dataframe tbody tr th:only-of-type {\n        vertical-align: middle;\n    }\n\n    .dataframe tbody tr th {\n        vertical-align: top;\n    }\n\n    .dataframe thead th {\n        text-align: right;\n    }\n</style>\n<table border=\"1\" class=\"dataframe\">\n  <thead>\n    <tr style=\"text-align: right;\">\n      <th></th>\n      <th>0</th>\n      <th>1</th>\n      <th>2</th>\n      <th>3</th>\n    </tr>\n  </thead>\n  <tbody>\n    <tr>\n      <th>Measure</th>\n      <td>Accuracy</td>\n      <td>Precision</td>\n      <td>Recall</td>\n      <td>F1</td>\n    </tr>\n    <tr>\n      <th>Score</th>\n      <td>0.986773</td>\n      <td>0.00902</td>\n      <td>0.938053</td>\n      <td>0.017868</td>\n    </tr>\n  </tbody>\n</table>\n</div>"
     },
     "execution_count": 56,
     "metadata": {},
     "output_type": "execute_result"
    }
   ],
   "source": [
    "predictions = knn_full.predict(X_test_full)\n",
    "evaluate_model(predictions, y_test_full)"
   ],
   "metadata": {
    "collapsed": false,
    "pycharm": {
     "name": "#%%\n"
    }
   }
  },
  {
   "cell_type": "markdown",
   "source": [
    "## Check Train set imbalance"
   ],
   "metadata": {
    "collapsed": false
   }
  },
  {
   "cell_type": "markdown",
   "source": [
    "### COM"
   ],
   "metadata": {
    "collapsed": false
   }
  },
  {
   "cell_type": "code",
   "execution_count": 57,
   "outputs": [
    {
     "data": {
      "text/plain": "0.6620503943065974"
     },
     "execution_count": 57,
     "metadata": {},
     "output_type": "execute_result"
    }
   ],
   "source": [
    "(y_train_com == 0).sum()/y_train_com.shape[0]"
   ],
   "metadata": {
    "collapsed": false,
    "pycharm": {
     "name": "#%%\n"
    }
   }
  },
  {
   "cell_type": "code",
   "execution_count": 58,
   "outputs": [
    {
     "data": {
      "text/plain": "0.9987704243322221"
     },
     "execution_count": 58,
     "metadata": {},
     "output_type": "execute_result"
    }
   ],
   "source": [
    "(y_test_com == 0).sum()/y_test_com.shape[0]"
   ],
   "metadata": {
    "collapsed": false,
    "pycharm": {
     "name": "#%%\n"
    }
   }
  },
  {
   "cell_type": "markdown",
   "source": [
    "### LIKE"
   ],
   "metadata": {
    "collapsed": false
   }
  },
  {
   "cell_type": "markdown",
   "source": [],
   "metadata": {
    "collapsed": false
   }
  },
  {
   "cell_type": "code",
   "execution_count": 59,
   "outputs": [
    {
     "data": {
      "text/plain": "0.6660618727176684"
     },
     "execution_count": 59,
     "metadata": {},
     "output_type": "execute_result"
    }
   ],
   "source": [
    "(y_train_like == 0).sum()/y_train_like.shape[0]"
   ],
   "metadata": {
    "collapsed": false,
    "pycharm": {
     "name": "#%%\n"
    }
   }
  },
  {
   "cell_type": "code",
   "execution_count": 60,
   "outputs": [
    {
     "data": {
      "text/plain": "0.9982184733407261"
     },
     "execution_count": 60,
     "metadata": {},
     "output_type": "execute_result"
    }
   ],
   "source": [
    "(y_test_like == 0).sum()/y_test_like.shape[0]"
   ],
   "metadata": {
    "collapsed": false,
    "pycharm": {
     "name": "#%%\n"
    }
   }
  },
  {
   "cell_type": "markdown",
   "source": [
    "### TFID"
   ],
   "metadata": {
    "collapsed": false
   }
  },
  {
   "cell_type": "code",
   "execution_count": 61,
   "outputs": [
    {
     "data": {
      "text/plain": "0.6665505833188229"
     },
     "execution_count": 61,
     "metadata": {},
     "output_type": "execute_result"
    }
   ],
   "source": [
    "(y_train_tfidf == 0).sum()/y_train_tfidf.shape[0]"
   ],
   "metadata": {
    "collapsed": false,
    "pycharm": {
     "name": "#%%\n"
    }
   }
  },
  {
   "cell_type": "code",
   "execution_count": 62,
   "outputs": [
    {
     "data": {
      "text/plain": "0.9807431516137781"
     },
     "execution_count": 62,
     "metadata": {},
     "output_type": "execute_result"
    }
   ],
   "source": [
    "(y_test_tfidf == 0).sum()/y_test_tfidf.shape[0]"
   ],
   "metadata": {
    "collapsed": false,
    "pycharm": {
     "name": "#%%\n"
    }
   }
  },
  {
   "cell_type": "markdown",
   "source": [
    "### FULL\n"
   ],
   "metadata": {
    "collapsed": false
   }
  },
  {
   "cell_type": "code",
   "execution_count": 63,
   "outputs": [
    {
     "data": {
      "text/plain": "0.656"
     },
     "execution_count": 63,
     "metadata": {},
     "output_type": "execute_result"
    }
   ],
   "source": [
    "(y_train_full == 0).sum()/y_train_full.shape[0]"
   ],
   "metadata": {
    "collapsed": false,
    "pycharm": {
     "name": "#%%\n"
    }
   }
  },
  {
   "cell_type": "code",
   "execution_count": 64,
   "outputs": [
    {
     "data": {
      "text/plain": "0.9998717321494854"
     },
     "execution_count": 64,
     "metadata": {},
     "output_type": "execute_result"
    }
   ],
   "source": [
    "(y_test_full == 0).sum()/y_test_full.shape[0]"
   ],
   "metadata": {
    "collapsed": false,
    "pycharm": {
     "name": "#%%\n"
    }
   }
  }
 ],
 "metadata": {
  "kernelspec": {
   "display_name": "Python 3",
   "language": "python",
   "name": "python3"
  },
  "language_info": {
   "codemirror_mode": {
    "name": "ipython",
    "version": 2
   },
   "file_extension": ".py",
   "mimetype": "text/x-python",
   "name": "python",
   "nbconvert_exporter": "python",
   "pygments_lexer": "ipython2",
   "version": "2.7.6"
  }
 },
 "nbformat": 4,
 "nbformat_minor": 0
}