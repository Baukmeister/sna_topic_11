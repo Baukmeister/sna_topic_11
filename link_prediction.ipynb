{
 "cells": [
  {
   "cell_type": "markdown",
   "metadata": {
    "collapsed": true,
    "pycharm": {
     "name": "#%% md\n"
    }
   },
   "source": [
    "# Predicting links in Social Networks"
   ]
  },
  {
   "cell_type": "code",
   "execution_count": 1,
   "outputs": [],
   "source": [
    "import pandas as pd\n",
    "from sklearn.ensemble import RandomForestClassifier\n",
    "from sklearn.model_selection import train_test_split\n",
    "from sklearn.metrics import *\n",
    "import pickle"
   ],
   "metadata": {
    "collapsed": false,
    "pycharm": {
     "name": "#%%\n"
    }
   }
  },
  {
   "cell_type": "markdown",
   "source": [
    "## Load data"
   ],
   "metadata": {
    "collapsed": false,
    "pycharm": {
     "name": "#%% md\n"
    }
   },
   "outputs": [],
   "execution_count": 1
  },
  {
   "cell_type": "markdown",
   "source": [
    "### Like relation"
   ],
   "metadata": {
    "collapsed": false
   }
  },
  {
   "cell_type": "code",
   "execution_count": 2,
   "outputs": [],
   "source": [
    "like_1 = pd.read_csv(\"data/engineered_features/Like_Features_day_1.csv\")\n",
    "like_2 = pd.read_csv(\"data/engineered_features/Like_Features_day_2.csv\")\n",
    "like_3 = pd.read_csv(\"data/engineered_features/Like_Features_day_3.csv\")\n",
    "like_4 = pd.read_csv(\"data/engineered_features/Like_Features_day_4.csv\")\n",
    "like_5 = pd.read_csv(\"data/engineered_features/Like_Features_day_5.csv\")"
   ],
   "metadata": {
    "collapsed": false,
    "pycharm": {
     "name": "#%%\n"
    }
   }
  },
  {
   "cell_type": "markdown",
   "source": [],
   "metadata": {
    "collapsed": false
   }
  },
  {
   "cell_type": "code",
   "execution_count": 3,
   "outputs": [],
   "source": [
    "common_1 = pd.read_csv(\"data/engineered_features/common_interest_day_1.csv\")\n",
    "common_2 = pd.read_csv(\"data/engineered_features/common_interest_day_2.csv\")\n",
    "common_3 = pd.read_csv(\"data/engineered_features/common_interest_day_3.csv\")\n",
    "common_3 = pd.read_csv(\"data/engineered_features/common_interest_day_4.csv\")\n",
    "common_1_3 = pd.read_csv(\"data/engineered_features/common_interest_combined_day_1_3.csv\")"
   ],
   "metadata": {
    "collapsed": false,
    "pycharm": {
     "name": "#%%\n"
    }
   }
  },
  {
   "cell_type": "markdown",
   "source": [
    "### Posting TFIDF"
   ],
   "metadata": {
    "collapsed": false,
    "pycharm": {
     "name": "#%% md\n"
    }
   }
  },
  {
   "cell_type": "code",
   "source": [
    "with open(\"data/engineered_features/postings_tfidf_and_graph_features_only_positive_days_1to3.pkl\",\"rb\") as input_file:\n",
    "    tfidf_pos_1_3 = pickle.load(input_file)\n",
    "\n",
    "with open(\"data/engineered_features/postings_tfidf_and_graph_features_only_positive_day_4_test.pkl\", \"rb\") as input_file:\n",
    "    tfidf_pos_4_test = pickle.load(input_file)\n",
    "\n",
    "with open(\"data/engineered_features/postings_tfidf_and_graph_features_only_negative_days_1to3.pkl\", \"rb\") as input_file:\n",
    "    tfidf_neg_1_3 = pickle.load(input_file)\n",
    "\n",
    "with open(\"data/engineered_features/postings_tfidf_and_graph_features_only_negative_day_4_test.pkl\", \"rb\") as input_file:\n",
    "    tfidf_neg_4_test = pickle.load(input_file)"
   ],
   "metadata": {
    "collapsed": false,
    "pycharm": {
     "name": "#%%\n"
    }
   },
   "execution_count": 7,
   "outputs": []
  },
  {
   "cell_type": "markdown",
   "source": [
    "## Define columns for training"
   ],
   "metadata": {
    "collapsed": false
   }
  },
  {
   "cell_type": "code",
   "execution_count": null,
   "outputs": [],
   "source": [
    "print(\"\")\n",
    "target = \"label\"\n",
    "columns = [\n",
    "    \"cn\", \"pa\", \"tn\", # graph features\n",
    "    \"minTriangles\", \"maxTriangles\", \"minCoefficient\", \"maxCoefficient\", # triangle features\n",
    "    \"sp\", \"sl\" # community features\n",
    "]\n",
    "\n",
    "X = df[columns]\n",
    "y = df[target]\n",
    "\n",
    "X_train, X_test, y_train, y_test = train_test_split( X, y, test_size=0.33, random_state=42)"
   ],
   "metadata": {
    "collapsed": false,
    "pycharm": {
     "name": "#%%\n",
     "is_executing": true
    }
   }
  },
  {
   "cell_type": "code",
   "execution_count": 6,
   "outputs": [
    {
     "data": {
      "text/plain": "array([[<AxesSubplot:title={'center':'ID_Posting'}>,\n        <AxesSubplot:title={'center':'ID_Posting_Parent'}>,\n        <AxesSubplot:title={'center':'ID_CommunityIdentity'}>],\n       [<AxesSubplot:title={'center':'PostingCreatedAt'}>,\n        <AxesSubplot:title={'center':'ID_Article'}>,\n        <AxesSubplot:title={'center':'ArticlePublishingDate'}>],\n       [<AxesSubplot:title={'center':'UserCreatedAt'}>, <AxesSubplot:>,\n        <AxesSubplot:>]], dtype=object)"
     },
     "execution_count": 6,
     "metadata": {},
     "output_type": "execute_result"
    },
    {
     "data": {
      "text/plain": "<Figure size 432x288 with 9 Axes>",
      "image/png": "[encoded data removed]"
     },
     "metadata": {
      "needs_background": "light"
     },
     "output_type": "display_data"
    }
   ],
   "source": [
    "df.hist()"
   ],
   "metadata": {
    "collapsed": false,
    "pycharm": {
     "name": "#%%\n"
    }
   }
  },
  {
   "cell_type": "code",
   "execution_count": null,
   "outputs": [],
   "source": [
    "df['PostingCreatedAt'].hist()"
   ],
   "metadata": {
    "collapsed": false,
    "pycharm": {
     "name": "#%%\n"
    }
   }
  },
  {
   "cell_type": "code",
   "execution_count": null,
   "outputs": [],
   "source": [
    "rfc = classifier = RandomForestClassifier(n_estimators=30, max_depth=10, random_state=0)"
   ],
   "metadata": {
    "collapsed": false,
    "pycharm": {
     "name": "#%%\n"
    }
   }
  },
  {
   "cell_type": "markdown",
   "source": [
    "## Define evaluation function"
   ],
   "metadata": {
    "collapsed": false,
    "pycharm": {
     "name": "#%% md\n"
    }
   }
  },
  {
   "cell_type": "code",
   "execution_count": null,
   "outputs": [],
   "source": [
    "def evaluate_model(predictions, actual):\n",
    "    return pd.DataFrame({\n",
    "        \"Measure\": [\"Accuracy\", \"Precision\", \"Recall\"],\n",
    "        \"Score\": [accuracy_score(actual, predictions),\n",
    "                  precision_score(actual, predictions),\n",
    "                  recall_score(actual, predictions)]\n",
    "    })"
   ],
   "metadata": {
    "collapsed": false,
    "pycharm": {
     "name": "#%%\n"
    }
   }
  },
  {
   "cell_type": "markdown",
   "source": [
    "## Evaluate prediction"
   ],
   "metadata": {
    "collapsed": false
   }
  },
  {
   "cell_type": "code",
   "execution_count": null,
   "outputs": [],
   "source": [
    "predictions = classifier.predict(X_train)\n",
    "evaluate_model(predictions, y_test)"
   ],
   "metadata": {
    "collapsed": false,
    "pycharm": {
     "name": "#%%\n"
    }
   }
  },
  {
   "cell_type": "markdown",
   "source": [
    "# TODO\n",
    "\n",
    "- Add engineered features\n",
    "- Split according to days (one day for test one for verfication?)\n",
    "- More models\n",
    "- Grid search for params\n",
    "- Cross validtation\n",
    "- Explainability?\n",
    "\n",
    "\n",
    "See this [repo](https://github.com/neo4j-examples/link-prediction) for reference"
   ],
   "metadata": {
    "collapsed": false,
    "pycharm": {
     "name": "#%% md\n"
    }
   }
  },
  {
   "cell_type": "markdown",
   "source": [],
   "metadata": {
    "collapsed": false
   }
  }
 ],
 "metadata": {
  "kernelspec": {
   "display_name": "Python 3",
   "language": "python",
   "name": "python3"
  },
  "language_info": {
   "codemirror_mode": {
    "name": "ipython",
    "version": 2
   },
   "file_extension": ".py",
   "mimetype": "text/x-python",
   "name": "python",
   "nbconvert_exporter": "python",
   "pygments_lexer": "ipython2",
   "version": "2.7.6"
  }
 },
 "nbformat": 4,
 "nbformat_minor": 0
}